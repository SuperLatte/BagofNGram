{
 "cells": [
  {
   "cell_type": "code",
   "execution_count": 1,
   "metadata": {},
   "outputs": [],
   "source": [
    "import matplotlib.pyplot as plt\n",
    "%matplotlib inline"
   ]
  },
  {
   "cell_type": "code",
   "execution_count": 2,
   "metadata": {},
   "outputs": [],
   "source": [
    "from os import listdir\n",
    "from bs4 import BeautifulSoup\n",
    "\n",
    "train_pos_path = './aclImdb/train/pos/'\n",
    "train_neg_path = './aclImdb/train/neg/'\n",
    "\n",
    "test_pos_path = './aclImdb/test/pos/'\n",
    "test_neg_path = './aclImdb/test/neg/'"
   ]
  },
  {
   "cell_type": "code",
   "execution_count": 3,
   "metadata": {},
   "outputs": [],
   "source": [
    "def readPath(path):\n",
    "    texts = []\n",
    "    for file in sorted(listdir(path)):\n",
    "        filename = path+file\n",
    "        with open(filename) as f:\n",
    "#             texts.append(f.read())\n",
    "\n",
    "            # remove html tags\n",
    "            texts.append(BeautifulSoup(f.read(), \"lxml\").text)\n",
    "    return texts"
   ]
  },
  {
   "cell_type": "code",
   "execution_count": 4,
   "metadata": {},
   "outputs": [],
   "source": [
    "from sklearn.model_selection import train_test_split\n",
    "\n",
    "train_data = []\n",
    "train_data.extend(readPath(train_pos_path))\n",
    "train_data.extend(readPath(train_neg_path))\n",
    "train_targets = []\n",
    "train_targets.extend([1]*12500)\n",
    "train_targets.extend([0]*12500)\n",
    "\n",
    "train_data, val_data, train_targets, val_targets = train_test_split(\n",
    "    train_data, train_targets, test_size=0.2, random_state=42)\n",
    "\n",
    "test_data = [] \n",
    "test_data.extend(readPath(test_pos_path))\n",
    "test_data.extend(readPath(test_neg_path))\n",
    "test_targets = []\n",
    "test_targets.extend([1]*12500)\n",
    "test_targets.extend([0]*12500)"
   ]
  },
  {
   "cell_type": "code",
   "execution_count": 5,
   "metadata": {},
   "outputs": [
    {
     "name": "stdout",
     "output_type": "stream",
     "text": [
      "Train dataset size is 20000\n",
      "Val dataset size is 5000\n",
      "Test dataset size is 25000\n"
     ]
    }
   ],
   "source": [
    "print (\"Train dataset size is {}\".format(len(train_data)))\n",
    "print (\"Val dataset size is {}\".format(len(val_data)))\n",
    "print (\"Test dataset size is {}\".format(len(test_data)))"
   ]
  },
  {
   "cell_type": "code",
   "execution_count": 6,
   "metadata": {},
   "outputs": [
    {
     "name": "stdout",
     "output_type": "stream",
     "text": [
      "I originally gave this episode a rating of two- I now wish I'd thought more about it. I also wish they had negative rating options.Watching it, I was amazed at how poor the whole thing was from start to finish. I adore Ron Pearlman, and John Carpenter... so what went wrong?? Last season episode 13 was pulled due to the way it handled the abortion issue. I think that this season Mr Carpenter managed to make something so grey-area that you can't immediately see if he is pro-choice or anti-abortion. It was only after I sat and thought about it that I realized he is very much anti-abortion- you get this most clearly in the end when the 'Mother' shoots the baby and kills it, to the dismay of the 'Father', who walks off in grief, leaving the mother unharmed. But you also see it in the way the Ron P. character is treated- I hardly think that if someone has proved themselves enough of a threat in the past so as to have a restraining order against him that they would not immediately be ringing the police. Instead we have the guard almost sympathetically dealing with him (only to pay for it in the end) I don't mind someone having a strong view on something, even if it isn't something I agree in, but I do think its a bit lame not to stand by that view, rather than trying to look like they're sitting somewhere in the middle.But, political issues aside, this episode was beyond poor. The music was retro-70's and just plain didn't work. The acting (other than Ron P.) was poor. The effects were dreadful- it might have been better just to -not- show the monster at all rather than show the lame excuse for a monster they had.All this being said, I'm glad they have the Masters of Horror- I don't mind sitting through some really poor episodes to find the good ones. Its a bit like renting horror movies from the video store- every now and again you get a good one and it makes it all worth while. I do agree with the poster that said maybe the name needs to change from Masters- some of these people just plain don't deserve the title. (Let me stress tho- even tho I hated this episode, John Carpenter TOTALLY deserves the title. He is a master thru and thru)\n",
      "0\n"
     ]
    }
   ],
   "source": [
    "# Random sample from train dataset\n",
    "import random\n",
    "\n",
    "sampleIdx = random.randint(0, len(train_data) - 1)\n",
    "print (train_data[sampleIdx])\n",
    "print (train_targets[sampleIdx])\n",
    "# print (BeautifulSoup(train_data[sampleIdx], \"lxml\").text)\n",
    "# print (tokenize(BeautifulSoup(train_data[sampleIdx], \"lxml\").text))"
   ]
  },
  {
   "cell_type": "code",
   "execution_count": 7,
   "metadata": {},
   "outputs": [
    {
     "name": "stdout",
     "output_type": "stream",
     "text": [
      "['i', 'originally', 'gave', 'this', 'episode', 'a', 'rating', 'of', 'two-', 'i', 'now', 'wish', 'i', \"'d\", 'thought', 'more', 'about', 'it', 'i', 'also', 'wish', 'they', 'had', 'negative', 'rating', 'options', 'watching', 'it', 'i', 'was', 'amazed', 'at', 'how', 'poor', 'the', 'whole', 'thing', 'was', 'from', 'start', 'to', 'finish', 'i', 'adore', 'ron', 'pearlman', 'and', 'john', 'carpenter', '...', 'so', 'what', 'went', 'wrong', 'last', 'season', 'episode', '13', 'was', 'pulled', 'due', 'to', 'the', 'way', 'it', 'handled', 'the', 'abortion', 'issue', 'i', 'think', 'that', 'this', 'season', 'mr', 'carpenter', 'managed', 'to', 'make', 'something', 'so', 'grey', 'area', 'that', 'you', 'ca', \"n't\", 'immediately', 'see', 'if', 'he', 'is', 'pro', 'choice', 'or', 'anti', 'abortion', 'it', 'was', 'only', 'after', 'i', 'sat', 'and', 'thought', 'about', 'it', 'that', 'i', 'realized', 'he', 'is', 'very', 'much', 'anti', 'abortion-', 'you', 'get', 'this', 'most', 'clearly', 'in', 'the', 'end', 'when', 'the', 'mother', 'shoots', 'the', 'baby', 'and', 'kills', 'it', 'to', 'the', 'dismay', 'of', 'the', 'father', 'who', 'walks', 'off', 'in', 'grief', 'leaving', 'the', 'mother', 'unharmed', 'but', 'you', 'also', 'see', 'it', 'in', 'the', 'way', 'the', 'ron', 'p.', 'character', 'is', 'treated-', 'i', 'hardly', 'think', 'that', 'if', 'someone', 'has', 'proved', 'themselves', 'enough', 'of', 'a', 'threat', 'in', 'the', 'past', 'so', 'as', 'to', 'have', 'a', 'restraining', 'order', 'against', 'him', 'that', 'they', 'would', 'not', 'immediately', 'be', 'ringing', 'the', 'police', 'instead', 'we', 'have', 'the', 'guard', 'almost', 'sympathetically', 'dealing', 'with', 'him', 'only', 'to', 'pay', 'for', 'it', 'in', 'the', 'end', 'i', 'do', \"n't\", 'mind', 'someone', 'having', 'a', 'strong', 'view', 'on', 'something', 'even', 'if', 'it', 'is', \"n't\", 'something', 'i', 'agree', 'in', 'but', 'i', 'do', 'think', 'its', 'a', 'bit', 'lame', 'not', 'to', 'stand', 'by', 'that', 'view', 'rather', 'than', 'trying', 'to', 'look', 'like', 'they', \"'re\", 'sitting', 'somewhere', 'in', 'the', 'middle', 'but', 'political', 'issues', 'aside', 'this', 'episode', 'was', 'beyond', 'poor', 'the', 'music', 'was', 'retro-70', \"'s\", 'and', 'just', 'plain', 'did', \"n't\", 'work', 'the', 'acting', 'other', 'than', 'ron', 'p.', 'was', 'poor', 'the', 'effects', 'were', 'dreadful-', 'it', 'might', 'have', 'been', 'better', 'just', 'to', '-not-', 'show', 'the', 'monster', 'at', 'all', 'rather', 'than', 'show', 'the', 'lame', 'excuse', 'for', 'a', 'monster', 'they', 'had', 'all', 'this', 'being', 'said', 'i', \"'m\", 'glad', 'they', 'have', 'the', 'masters', 'of', 'horror-', 'i', 'do', \"n't\", 'mind', 'sitting', 'through', 'some', 'really', 'poor', 'episodes', 'to', 'find', 'the', 'good', 'ones', 'its', 'a', 'bit', 'like', 'renting', 'horror', 'movies', 'from', 'the', 'video', 'store-', 'every', 'now', 'and', 'again', 'you', 'get', 'a', 'good', 'one', 'and', 'it', 'makes', 'it', 'all', 'worth', 'while', 'i', 'do', 'agree', 'with', 'the', 'poster', 'that', 'said', 'maybe', 'the', 'name', 'needs', 'to', 'change', 'from', 'masters-', 'some', 'of', 'these', 'people', 'just', 'plain', 'do', \"n't\", 'deserve', 'the', 'title', 'let', 'me', 'stress', 'tho-', 'even', 'tho', 'i', 'hated', 'this', 'episode', 'john', 'carpenter', 'totally', 'deserves', 'the', 'title', 'he', 'is', 'a', 'master', 'thru', 'and', 'thru']\n"
     ]
    }
   ],
   "source": [
    "# Let's write the tokenization function \n",
    "\n",
    "import spacy\n",
    "import string\n",
    "\n",
    "# Load English tokenizer, tagger, parser, NER and word vectors\n",
    "tokenizer = spacy.load('en_core_web_sm')\n",
    "punctuations = string.punctuation\n",
    "\n",
    "# lowercase and remove punctuation\n",
    "def tokenize(sent):\n",
    "    tokens = tokenizer(sent)\n",
    "    return [token.text.lower() for token in tokens if (token.text not in punctuations)]\n",
    "\n",
    "# Example\n",
    "tokens = tokenize(train_data[sampleIdx])\n",
    "print (tokens)"
   ]
  },
  {
   "cell_type": "code",
   "execution_count": 8,
   "metadata": {},
   "outputs": [],
   "source": [
    "# Alternatively try running the following multi-threaded version of tokenization\n",
    "# Credit to Ilya Kulikov\n",
    "from tqdm import tqdm_notebook\n",
    "\n",
    "def lower_case_remove_punc(parsed):\n",
    "    return [token.text.lower() for token in parsed if (token.text not in punctuations)]\n",
    "\n",
    "def lower_case(parsed):\n",
    "    return [token.text.lower() for token in parsed]\n",
    "\n",
    "def tokenize_dataset(dataset):\n",
    "    token_dataset = []\n",
    "    # we are keeping track of all tokens in dataset\n",
    "    # in order to create vocabulary later\n",
    "    all_tokens = []\n",
    "\n",
    "    for sample in tqdm_notebook(tokenizer.pipe(dataset, disable=['parser', 'tagger', 'ner'], batch_size=512, n_threads=1)):\n",
    "        tokens = lower_case_remove_punc(sample)\n",
    "#         tokens = lower_case(sample)\n",
    "        token_dataset.append(tokens)\n",
    "        all_tokens += tokens\n",
    "\n",
    "    return token_dataset, all_tokens"
   ]
  },
  {
   "cell_type": "code",
   "execution_count": 32,
   "metadata": {},
   "outputs": [
    {
     "name": "stdout",
     "output_type": "stream",
     "text": [
      "Tokenizing val data\n"
     ]
    },
    {
     "data": {
      "application/vnd.jupyter.widget-view+json": {
       "model_id": "f29575adc39a4c0e9023f2924d78d910",
       "version_major": 2,
       "version_minor": 0
      },
      "text/plain": [
       "HBox(children=(IntProgress(value=1, bar_style='info', max=1), HTML(value='')))"
      ]
     },
     "metadata": {},
     "output_type": "display_data"
    },
    {
     "name": "stdout",
     "output_type": "stream",
     "text": [
      "Tokenizing test data\n"
     ]
    },
    {
     "data": {
      "application/vnd.jupyter.widget-view+json": {
       "model_id": "ccb4ee50c5244ff48f2a29b8301f18df",
       "version_major": 2,
       "version_minor": 0
      },
      "text/plain": [
       "HBox(children=(IntProgress(value=1, bar_style='info', max=1), HTML(value='')))"
      ]
     },
     "metadata": {},
     "output_type": "display_data"
    },
    {
     "name": "stdout",
     "output_type": "stream",
     "text": [
      "Tokenizing train data\n"
     ]
    },
    {
     "data": {
      "application/vnd.jupyter.widget-view+json": {
       "model_id": "be934a023e0a48dda5335cf45a2a97e6",
       "version_major": 2,
       "version_minor": 0
      },
      "text/plain": [
       "HBox(children=(IntProgress(value=1, bar_style='info', max=1), HTML(value='')))"
      ]
     },
     "metadata": {},
     "output_type": "display_data"
    }
   ],
   "source": [
    "import pickle as pkl\n",
    "\n",
    "# val set tokens\n",
    "print (\"Tokenizing val data\")\n",
    "val_data_tokens_, _ = tokenize_dataset(val_data)\n",
    "# pkl.dump(val_data_tokens, open(\"val_data_tokens.p\", \"wb\"))\n",
    "\n",
    "# test set tokens\n",
    "print (\"Tokenizing test data\")\n",
    "test_data_tokens_, _ = tokenize_dataset(test_data)\n",
    "# pkl.dump(test_data_tokens, open(\"test_data_tokens.p\", \"wb\"))\n",
    "\n",
    "# train set tokens\n",
    "print (\"Tokenizing train data\")\n",
    "train_data_tokens_, all_train_tokens_ = tokenize_dataset(train_data)\n",
    "# pkl.dump(train_data_tokens, open(\"train_data_tokens.p\", \"wb\"))\n",
    "# pkl.dump(all_train_tokens, open(\"all_train_tokens.p\", \"wb\"))"
   ]
  },
  {
   "cell_type": "code",
   "execution_count": 10,
   "metadata": {},
   "outputs": [],
   "source": [
    "def ngrams(data_tokens, n):\n",
    "    token_dataset = []\n",
    "    all_tokens = []\n",
    "    for tokens in data_tokens:\n",
    "        token = [tuple([tokens[j] for j in range(i, i+n)])\n",
    "                  for i in range(len(tokens)-n+1)]\n",
    "        token_dataset.append(token)\n",
    "        all_tokens += token\n",
    "    return token_dataset, all_tokens"
   ]
  },
  {
   "cell_type": "code",
   "execution_count": 11,
   "metadata": {},
   "outputs": [],
   "source": [
    "def ngrams_inclusive(data_tokens, n):\n",
    "    token_dataset = []\n",
    "    all_tokens = []\n",
    "    for tokens in data_tokens:\n",
    "        token_ = []\n",
    "        for ng in range(1, n+1):\n",
    "            token = [tuple([tokens[j] for j in range(i, i+ng)])\n",
    "                      for i in range(len(tokens)-ng+1)]\n",
    "            token_ += token\n",
    "            all_tokens += token\n",
    "        token_dataset.append(token_)\n",
    "    return token_dataset, all_tokens"
   ]
  },
  {
   "cell_type": "code",
   "execution_count": 12,
   "metadata": {},
   "outputs": [],
   "source": [
    "import pickle as pkl\n",
    "# Then, load preprocessed train, val and test datasets\n",
    "# train_data_tokens = pkl.load(open(\"train_data_tokens.p\", \"rb\"))\n",
    "# all_train_tokens = pkl.load(open(\"all_train_tokens.p\", \"rb\"))\n",
    "\n",
    "# val_data_tokens = pkl.load(open(\"val_data_tokens.p\", \"rb\"))\n",
    "# test_data_tokens = pkl.load(open(\"test_data_tokens.p\", \"rb\"))\n",
    "\n",
    "# double checking\n",
    "# print (\"Train dataset size is {}\".format(len(train_data_tokens)))\n",
    "# print (\"Val dataset size is {}\".format(len(val_data_tokens)))\n",
    "# print (\"Test dataset size is {}\".format(len(test_data_tokens)))\n",
    "\n",
    "# print (\"Total number of tokens in train dataset is {}\".format(len(all_train_tokens)))"
   ]
  },
  {
   "cell_type": "code",
   "execution_count": 13,
   "metadata": {},
   "outputs": [],
   "source": [
    "# N = 1\n",
    "# # train_data_tokens, all_train_tokens = ngrams(train_data_tokens, N)\n",
    "# # val_data_tokens, _ = ngrams(val_data_tokens, N)\n",
    "# # test_data_tokens, _ = ngrams(test_data_tokens, N)\n",
    "# train_data_tokens, all_train_tokens = ngrams_inclusive(train_data_tokens, N)\n",
    "# val_data_tokens, _ = ngrams_inclusive(val_data_tokens, N)\n",
    "# test_data_tokens, _ = ngrams_inclusive(test_data_tokens, N)"
   ]
  },
  {
   "cell_type": "markdown",
   "metadata": {},
   "source": [
    "Now, we are going to create the vocabulary of most common 10,000 tokens in the training set."
   ]
  },
  {
   "cell_type": "code",
   "execution_count": 14,
   "metadata": {},
   "outputs": [],
   "source": [
    "# train_data_tokens[0][:10]"
   ]
  },
  {
   "cell_type": "code",
   "execution_count": 15,
   "metadata": {},
   "outputs": [],
   "source": [
    "from collections import Counter\n",
    "\n",
    "# max_vocab_size = 10000\n",
    "# save index 0 for unk and 1 for pad\n",
    "PAD_IDX = 0\n",
    "UNK_IDX = 1\n",
    "\n",
    "def build_vocab(all_tokens, max_vocab_size):\n",
    "    # Returns:\n",
    "    # id2token: list of tokens, where id2token[i] returns token that corresponds to token i\n",
    "    # token2id: dictionary where keys represent tokens and corresponding values represent indices\n",
    "    token_counter = Counter(all_tokens)\n",
    "    vocab, count = zip(*token_counter.most_common(max_vocab_size))\n",
    "    id2token = list(vocab)\n",
    "    token2id = dict(zip(vocab, range(2,2+len(vocab)))) \n",
    "    id2token = ['<pad>', '<unk>'] + id2token\n",
    "    token2id['<pad>'] = PAD_IDX \n",
    "    token2id['<unk>'] = UNK_IDX\n",
    "    return token2id, id2token\n",
    "\n",
    "# token2id, id2token = build_vocab(all_train_tokens)"
   ]
  },
  {
   "cell_type": "code",
   "execution_count": 16,
   "metadata": {},
   "outputs": [],
   "source": [
    "# id2token[:10]"
   ]
  },
  {
   "cell_type": "code",
   "execution_count": 17,
   "metadata": {},
   "outputs": [],
   "source": [
    "# Lets check the dictionary by loading random token from it\n",
    "\n",
    "# random_token_id = random.randint(0, len(id2token)-1)\n",
    "# random_token = id2token[random_token_id]\n",
    "\n",
    "# print (\"Token id {} ; token {}\".format(random_token_id, id2token[random_token_id]))\n",
    "# print (\"Token {}; token id {}\".format(random_token, token2id[random_token]))"
   ]
  },
  {
   "cell_type": "code",
   "execution_count": 18,
   "metadata": {},
   "outputs": [],
   "source": [
    "# convert token to id in the dataset\n",
    "def token2index_dataset(tokens_data):\n",
    "    indices_data = []\n",
    "    for tokens in tokens_data:\n",
    "        index_list = [token2id[token] if token in token2id else UNK_IDX for token in tokens]\n",
    "        indices_data.append(index_list)\n",
    "    return indices_data\n",
    "\n",
    "# train_data_indices = token2index_dataset(train_data_tokens)\n",
    "# val_data_indices = token2index_dataset(val_data_tokens)\n",
    "# test_data_indices = token2index_dataset(test_data_tokens)\n",
    "\n",
    "# double checking\n",
    "# print (\"Train dataset size is {}\".format(len(train_data_indices)))\n",
    "# print (\"Val dataset size is {}\".format(len(val_data_indices)))\n",
    "# print (\"Test dataset size is {}\".format(len(test_data_indices)))"
   ]
  },
  {
   "cell_type": "markdown",
   "metadata": {},
   "source": [
    "Now we are going to create PyTorch DataLoader "
   ]
  },
  {
   "cell_type": "code",
   "execution_count": 19,
   "metadata": {},
   "outputs": [],
   "source": [
    "# MAX_SENTENCE_LENGTH = 200\n",
    "\n",
    "import numpy as np\n",
    "import torch\n",
    "from torch.utils.data import Dataset\n",
    "\n",
    "class NewsGroupDataset(Dataset):\n",
    "    \"\"\"\n",
    "    Class that represents a train/validation/test dataset that's readable for PyTorch\n",
    "    Note that this class inherits torch.utils.data.Dataset\n",
    "    \"\"\"\n",
    "    \n",
    "    def __init__(self, data_list, target_list, MAX_SENTENCE_LENGTH):\n",
    "        \"\"\"\n",
    "        @param data_list: list of newsgroup tokens \n",
    "        @param target_list: list of newsgroup targets \n",
    "\n",
    "        \"\"\"\n",
    "        self.data_list = data_list\n",
    "        self.target_list = target_list\n",
    "        self.MAX_SENTENCE_LENGTH = MAX_SENTENCE_LENGTH\n",
    "        assert (len(self.data_list) == len(self.target_list))\n",
    "\n",
    "    def __len__(self):\n",
    "        return len(self.data_list)\n",
    "        \n",
    "    def __getitem__(self, key):\n",
    "        \"\"\"\n",
    "        Triggered when you call dataset[i]\n",
    "        \"\"\"\n",
    "        \n",
    "        token_idx = self.data_list[key][:self.MAX_SENTENCE_LENGTH]\n",
    "        label = self.target_list[key]\n",
    "        return [token_idx, len(token_idx), label]\n",
    "\n",
    "def newsgroup_collate_func(batch):\n",
    "    \"\"\"\n",
    "    Customized function for DataLoader that dynamically pads the batch so that all \n",
    "    data have the same length\n",
    "    \"\"\"\n",
    "    data_list = []\n",
    "    label_list = []\n",
    "    length_list = []\n",
    "    #print(\"collate batch: \", batch[0][0])\n",
    "    #batch[0][0] = batch[0][0][:MAX_SENTENCE_LENGTH]\n",
    "    for datum in batch:\n",
    "        label_list.append(datum[2])\n",
    "        length_list.append(datum[1])\n",
    "    # padding\n",
    "    for datum in batch:\n",
    "        padded_vec = np.pad(np.array(datum[0]), \n",
    "                                pad_width=((0,MAX_SENTENCE_LENGTH-datum[1])), \n",
    "                                mode=\"constant\", constant_values=0)\n",
    "        data_list.append(padded_vec)\n",
    "    return [torch.from_numpy(np.array(data_list)), torch.LongTensor(length_list), torch.LongTensor(label_list)]\n",
    "\n",
    "# create pytorch dataloader\n",
    "#train_loader = NewsGroupDataset(train_data_indices, train_targets)\n",
    "#val_loader = NewsGroupDataset(val_data_indices, val_targets)\n",
    "#test_loader = NewsGroupDataset(test_data_indices, test_targets)\n",
    "\n",
    "# BATCH_SIZE = 32\n",
    "# train_dataset = NewsGroupDataset(train_data_indices, train_targets)\n",
    "# train_loader = torch.utils.data.DataLoader(dataset=train_dataset, \n",
    "#                                            batch_size=BATCH_SIZE,\n",
    "#                                            collate_fn=newsgroup_collate_func,\n",
    "#                                            shuffle=True)\n",
    "\n",
    "# val_dataset = NewsGroupDataset(val_data_indices, val_targets)\n",
    "# val_loader = torch.utils.data.DataLoader(dataset=val_dataset, \n",
    "#                                            batch_size=BATCH_SIZE,\n",
    "#                                            collate_fn=newsgroup_collate_func,\n",
    "#                                            shuffle=True)\n",
    "\n",
    "# test_dataset = NewsGroupDataset(test_data_indices, test_targets)\n",
    "# test_loader = torch.utils.data.DataLoader(dataset=test_dataset, \n",
    "#                                            batch_size=BATCH_SIZE,\n",
    "#                                            collate_fn=newsgroup_collate_func,\n",
    "#                                            shuffle=False)\n",
    "\n",
    "# for i, (data, lengths, labels) in enumerate(train_loader):\n",
    "#    print (data)\n",
    "#    print (labels)\n",
    "#    break"
   ]
  },
  {
   "cell_type": "markdown",
   "metadata": {},
   "source": [
    "Here we will define Bag-of-Words model in PyTorch"
   ]
  },
  {
   "cell_type": "code",
   "execution_count": 62,
   "metadata": {},
   "outputs": [],
   "source": [
    "# First import torch related libraries\n",
    "import torch\n",
    "import torch.nn as nn\n",
    "import torch.nn.functional as F\n",
    "\n",
    "class BagOfWords(nn.Module):\n",
    "    \"\"\"\n",
    "    BagOfWords classification model\n",
    "    \"\"\"\n",
    "    def __init__(self, vocab_size, emb_dim):\n",
    "        \"\"\"\n",
    "        @param vocab_size: size of the vocabulary. \n",
    "        @param emb_dim: size of the word embedding\n",
    "        \"\"\"\n",
    "        super(BagOfWords, self).__init__()\n",
    "        # pay attention to padding_idx \n",
    "        self.embed = nn.Embedding(vocab_size, emb_dim, padding_idx=0)\n",
    "        self.linear = nn.Linear(emb_dim,2)\n",
    "    \n",
    "    def forward(self, data, length):\n",
    "        \"\"\"\n",
    "        \n",
    "        @param data: matrix of size (batch_size, max_sentence_length). Each row in data represents a \n",
    "            review that is represented using n-gram index. Note that they are padded to have same length.\n",
    "        @param length: an int tensor of size (batch_size), which represents the non-trivial (excludes padding)\n",
    "            length of each sentences in the data.\n",
    "        \"\"\"\n",
    "        out = self.embed(data)\n",
    "        out = torch.sum(out, dim=1)\n",
    "        out /= length.view(length.size()[0],1).expand_as(out).float()\n",
    "     \n",
    "        # return logits\n",
    "        out = self.linear(out.float())\n",
    "        return out\n",
    "\n",
    "# emb_dim = 100\n",
    "# model = BagOfWords(len(id2token), emb_dim)"
   ]
  },
  {
   "cell_type": "code",
   "execution_count": 21,
   "metadata": {},
   "outputs": [],
   "source": [
    "# learning_rate = 0.01\n",
    "# num_epochs = 3 # number epoch to train\n",
    "\n",
    "# # Criterion and Optimizer and scheduler\n",
    "# criterion = torch.nn.CrossEntropyLoss()  \n",
    "\n",
    "# optimizer = torch.optim.Adam(model.parameters(), lr=learning_rate)\n",
    "# # optimizer = torch.optim.SGD(model.parameters(), lr=learning_rate)\n",
    "\n",
    "# # scheduler = torch.optim.lr_scheduler.ReduceLROnPlateau(optimizer, 'min')\n",
    "\n",
    "# Function for testing the model\n",
    "def test_model(loader, model):\n",
    "    \"\"\"\n",
    "    Help function that tests the model's performance on a dataset\n",
    "    @param: loader - data loader for the dataset to test against\n",
    "    \"\"\"\n",
    "    correct = 0\n",
    "    total = 0\n",
    "    model.eval()\n",
    "    for data, lengths, labels in loader:\n",
    "        data_batch, length_batch, label_batch = data, lengths, labels\n",
    "        outputs = F.softmax(model(data_batch, length_batch), dim=1)\n",
    "        predicted = outputs.max(1, keepdim=True)[1]\n",
    "        \n",
    "        total += labels.size(0)\n",
    "        correct += predicted.eq(labels.view_as(predicted)).sum().item()\n",
    "    return (100 * correct / total)\n",
    "\n",
    "# val_acc_values = []\n",
    "# for epoch in range(num_epochs):\n",
    "#     running_loss = 0.0\n",
    "#     for i, (data, lengths, labels) in enumerate(train_loader):\n",
    "#         model.train()\n",
    "#         data_batch, length_batch, label_batch = data, lengths, labels\n",
    "#         optimizer.zero_grad()\n",
    "#         outputs = model(data_batch, length_batch)\n",
    "#         loss = criterion(outputs, label_batch)\n",
    "#         running_loss += loss.item()\n",
    "#         loss.backward()\n",
    "#         optimizer.step()\n",
    "#         # validate every 100 iterations\n",
    "#         if i > 0 and i % 100 == 0:\n",
    "# #             scheduler.step(running_loss)\n",
    "#             # validate\n",
    "#             val_acc = test_model(val_loader, model)\n",
    "#             val_acc_values.append(val_acc)\n",
    "#             print('Epoch: [{}/{}], Step: [{}/{}], Loss: {:.4f}, Val Acc: {}'.format( \n",
    "#                         epoch+1, num_epochs, i+1, len(train_loader), running_loss, val_acc))\n",
    "\n",
    "# #             trn_acc = test_model(train_loader, model)\n",
    "# #             print('Epoch: [{}/{}], Step: [{}/{}], Loss: {:.4f}, Trn Acc: {}, Val Acc: {}'.format( \n",
    "# #                        epoch+1, num_epochs, i+1, len(train_loader), running_loss, trn_acc, val_acc))\n",
    "#             running_loss = 0.0"
   ]
  },
  {
   "cell_type": "markdown",
   "metadata": {},
   "source": [
    "## Experiment for using only N-grams or 1-gram to N-grams"
   ]
  },
  {
   "cell_type": "code",
   "execution_count": 37,
   "metadata": {},
   "outputs": [
    {
     "name": "stdout",
     "output_type": "stream",
     "text": [
      "Epoch: [1/3], Step: [101/625], Loss: 71.8028, Val Acc: 58.34\n",
      "Epoch: [1/3], Step: [201/625], Loss: 49.6149, Val Acc: 85.14\n",
      "Epoch: [1/3], Step: [301/625], Loss: 35.7458, Val Acc: 87.52\n",
      "Epoch: [1/3], Step: [401/625], Loss: 31.4794, Val Acc: 88.66\n",
      "Epoch: [1/3], Step: [501/625], Loss: 29.8321, Val Acc: 88.96\n",
      "Epoch: [1/3], Step: [601/625], Loss: 28.4607, Val Acc: 89.52\n",
      "Epoch: [2/3], Step: [101/625], Loss: 18.9539, Val Acc: 89.82\n",
      "Epoch: [2/3], Step: [201/625], Loss: 18.2839, Val Acc: 89.84\n",
      "Epoch: [2/3], Step: [301/625], Loss: 20.7285, Val Acc: 89.7\n",
      "Epoch: [2/3], Step: [401/625], Loss: 18.7844, Val Acc: 90.12\n",
      "Epoch: [2/3], Step: [501/625], Loss: 20.1849, Val Acc: 90.2\n",
      "Epoch: [2/3], Step: [601/625], Loss: 20.1471, Val Acc: 90.04\n",
      "Epoch: [3/3], Step: [101/625], Loss: 11.6257, Val Acc: 89.92\n",
      "Epoch: [3/3], Step: [201/625], Loss: 11.3600, Val Acc: 90.0\n",
      "Epoch: [3/3], Step: [301/625], Loss: 11.3979, Val Acc: 90.44\n",
      "Epoch: [3/3], Step: [401/625], Loss: 11.6594, Val Acc: 89.76\n",
      "Epoch: [3/3], Step: [501/625], Loss: 11.9747, Val Acc: 89.82\n",
      "Epoch: [3/3], Step: [601/625], Loss: 11.6810, Val Acc: 85.7\n"
     ]
    }
   ],
   "source": [
    "N = 4\n",
    "# train_data_tokens, all_train_tokens = ngrams(train_data_tokens_, N)\n",
    "# val_data_tokens, _ = ngrams(val_data_tokens_, N)\n",
    "# test_data_tokens, _ = ngrams(test_data_tokens_, N)\n",
    "train_data_tokens, all_train_tokens = ngrams_inclusive(train_data_tokens_, N)\n",
    "val_data_tokens, _ = ngrams_inclusive(val_data_tokens_, N)\n",
    "test_data_tokens, _ = ngrams_inclusive(test_data_tokens_, N)\n",
    "\n",
    "max_vocab_size = 20000\n",
    "token2id, id2token = build_vocab(all_train_tokens, max_vocab_size)\n",
    "\n",
    "train_data_indices = token2index_dataset(train_data_tokens)\n",
    "val_data_indices = token2index_dataset(val_data_tokens)\n",
    "test_data_indices = token2index_dataset(test_data_tokens)\n",
    "\n",
    "MAX_SENTENCE_LENGTH = 1200\n",
    "BATCH_SIZE = 32\n",
    "train_dataset = NewsGroupDataset(train_data_indices, train_targets, MAX_SENTENCE_LENGTH)\n",
    "train_loader = torch.utils.data.DataLoader(dataset=train_dataset, \n",
    "                                           batch_size=BATCH_SIZE,\n",
    "                                           collate_fn=newsgroup_collate_func,\n",
    "                                           shuffle=True)\n",
    "\n",
    "val_dataset = NewsGroupDataset(val_data_indices, val_targets, MAX_SENTENCE_LENGTH)\n",
    "val_loader = torch.utils.data.DataLoader(dataset=val_dataset, \n",
    "                                           batch_size=BATCH_SIZE,\n",
    "                                           collate_fn=newsgroup_collate_func,\n",
    "                                           shuffle=True)\n",
    "\n",
    "test_dataset = NewsGroupDataset(test_data_indices, test_targets, MAX_SENTENCE_LENGTH)\n",
    "test_loader = torch.utils.data.DataLoader(dataset=test_dataset, \n",
    "                                           batch_size=BATCH_SIZE,\n",
    "                                           collate_fn=newsgroup_collate_func,\n",
    "                                           shuffle=False)\n",
    "\n",
    "emb_dim = 100\n",
    "model = BagOfWords(len(id2token), emb_dim)\n",
    "\n",
    "learning_rate = 0.01\n",
    "num_epochs = 3 # number epoch to train\n",
    "\n",
    "# Criterion and Optimizer and scheduler\n",
    "criterion = torch.nn.CrossEntropyLoss()  \n",
    "\n",
    "optimizer = torch.optim.Adam(model.parameters(), lr=learning_rate)\n",
    "# optimizer = torch.optim.SGD(model.parameters(), lr=learning_rate)\n",
    "\n",
    "# scheduler = torch.optim.lr_scheduler.ReduceLROnPlateau(optimizer, 'min')\n",
    "\n",
    "val_acc_values = []\n",
    "for epoch in range(num_epochs):\n",
    "    running_loss = 0.0\n",
    "    for i, (data, lengths, labels) in enumerate(train_loader):\n",
    "        model.train()\n",
    "        data_batch, length_batch, label_batch = data, lengths, labels\n",
    "        optimizer.zero_grad()\n",
    "        outputs = model(data_batch, length_batch)\n",
    "        loss = criterion(outputs, label_batch)\n",
    "        running_loss += loss.item()\n",
    "        loss.backward()\n",
    "        optimizer.step()\n",
    "        # validate every 100 iterations\n",
    "        if i > 0 and i % 100 == 0:\n",
    "#             scheduler.step(running_loss)\n",
    "            # validate\n",
    "            val_acc = test_model(val_loader, model)\n",
    "            val_acc_values.append(val_acc)\n",
    "            print('Epoch: [{}/{}], Step: [{}/{}], Loss: {:.4f}, Val Acc: {}'.format( \n",
    "                        epoch+1, num_epochs, i+1, len(train_loader), running_loss, val_acc))\n",
    "\n",
    "#             trn_acc = test_model(train_loader, model)\n",
    "#             print('Epoch: [{}/{}], Step: [{}/{}], Loss: {:.4f}, Trn Acc: {}, Val Acc: {}'.format( \n",
    "#                        epoch+1, num_epochs, i+1, len(train_loader), running_loss, trn_acc, val_acc))\n",
    "            running_loss = 0.0"
   ]
  },
  {
   "cell_type": "code",
   "execution_count": 38,
   "metadata": {},
   "outputs": [
    {
     "name": "stdout",
     "output_type": "stream",
     "text": [
      "After training for 3 epochs\n",
      "Val Acc 88.94\n",
      "Test Acc 87.32\n"
     ]
    }
   ],
   "source": [
    "print (\"After training for {} epochs\".format(num_epochs))\n",
    "print (\"Val Acc {}\".format(test_model(val_loader, model)))\n",
    "print (\"Test Acc {}\".format(test_model(test_loader, model)))"
   ]
  },
  {
   "cell_type": "code",
   "execution_count": 42,
   "metadata": {},
   "outputs": [
    {
     "data": {
      "image/png": "[encoded data removed]",
      "text/plain": [
       "<Figure size 432x288 with 1 Axes>"
      ]
     },
     "metadata": {
      "needs_background": "light"
     },
     "output_type": "display_data"
    }
   ],
   "source": [
    "plt.clf()\n",
    "plt.plot(val_acc_values, 'b', label='Validation acc')\n",
    "plt.title('Validation accuracy')\n",
    "plt.ylabel('Accuracy')\n",
    "plt.legend()\n",
    "\n",
    "plt.show()"
   ]
  },
  {
   "cell_type": "markdown",
   "metadata": {},
   "source": [
    "## Experiment for choosing N for N-grams"
   ]
  },
  {
   "cell_type": "code",
   "execution_count": 43,
   "metadata": {},
   "outputs": [
    {
     "name": "stdout",
     "output_type": "stream",
     "text": [
      "[[1], [2], [3], [4]]\n"
     ]
    }
   ],
   "source": [
    "Ngrams_param = [\n",
    "    (1, 200),\n",
    "    (2, 500),\n",
    "    (3, 800),\n",
    "    (4, 1200)\n",
    "]\n",
    "tt = []\n",
    "for (N, MAX_SENTENCE_LENGTH) in Ngrams_param:\n",
    "    t1 = []\n",
    "    t1.append(N)\n",
    "    tt.append(t1)\n",
    "print(tt)"
   ]
  },
  {
   "cell_type": "code",
   "execution_count": 44,
   "metadata": {},
   "outputs": [
    {
     "name": "stdout",
     "output_type": "stream",
     "text": [
      "Epoch: [1/10], Step: [101/625], Loss: 79.7812, Val Acc: 77.06\n",
      "Epoch: [1/10], Step: [201/625], Loss: 42.9531, Val Acc: 83.96\n",
      "Epoch: [1/10], Step: [301/625], Loss: 35.8365, Val Acc: 85.42\n",
      "Epoch: [1/10], Step: [401/625], Loss: 33.8468, Val Acc: 84.08\n",
      "Epoch: [1/10], Step: [501/625], Loss: 32.7603, Val Acc: 84.26\n",
      "Epoch: [1/10], Step: [601/625], Loss: 32.9489, Val Acc: 87.0\n",
      "Epoch: [2/10], Step: [101/625], Loss: 21.0800, Val Acc: 87.02\n",
      "Epoch: [2/10], Step: [201/625], Loss: 22.4955, Val Acc: 86.98\n",
      "Epoch: [2/10], Step: [301/625], Loss: 23.3667, Val Acc: 86.66\n",
      "Epoch: [2/10], Step: [401/625], Loss: 22.5790, Val Acc: 87.18\n",
      "Epoch: [2/10], Step: [501/625], Loss: 22.9697, Val Acc: 87.16\n",
      "Epoch: [2/10], Step: [601/625], Loss: 25.3644, Val Acc: 87.04\n",
      "Epoch: [3/10], Step: [101/625], Loss: 15.1764, Val Acc: 86.98\n",
      "Epoch: [3/10], Step: [201/625], Loss: 14.6835, Val Acc: 86.38\n",
      "Epoch: [3/10], Step: [301/625], Loss: 15.6447, Val Acc: 86.7\n",
      "Epoch: [3/10], Step: [401/625], Loss: 18.3233, Val Acc: 86.36\n",
      "Epoch: [3/10], Step: [501/625], Loss: 18.1871, Val Acc: 86.26\n",
      "Epoch: [3/10], Step: [601/625], Loss: 22.5461, Val Acc: 86.26\n",
      "Epoch: [4/10], Step: [101/625], Loss: 11.4470, Val Acc: 86.36\n",
      "Epoch: [4/10], Step: [201/625], Loss: 10.8020, Val Acc: 86.08\n",
      "Epoch: [4/10], Step: [301/625], Loss: 12.8903, Val Acc: 85.24\n",
      "Epoch: [4/10], Step: [401/625], Loss: 14.3181, Val Acc: 84.92\n",
      "Epoch: [4/10], Step: [501/625], Loss: 15.8647, Val Acc: 85.6\n",
      "Epoch: [4/10], Step: [601/625], Loss: 16.7597, Val Acc: 85.48\n",
      "Epoch: [5/10], Step: [101/625], Loss: 8.5408, Val Acc: 85.62\n",
      "Epoch: [5/10], Step: [201/625], Loss: 9.4061, Val Acc: 85.28\n",
      "Epoch: [5/10], Step: [301/625], Loss: 10.0184, Val Acc: 85.34\n",
      "Epoch: [5/10], Step: [401/625], Loss: 12.1886, Val Acc: 85.44\n",
      "Epoch: [5/10], Step: [501/625], Loss: 12.1817, Val Acc: 85.12\n",
      "Epoch: [5/10], Step: [601/625], Loss: 13.0691, Val Acc: 84.6\n",
      "Epoch: [6/10], Step: [101/625], Loss: 6.5859, Val Acc: 84.9\n",
      "Epoch: [6/10], Step: [201/625], Loss: 7.5838, Val Acc: 84.94\n",
      "Epoch: [6/10], Step: [301/625], Loss: 7.8659, Val Acc: 84.88\n",
      "Epoch: [6/10], Step: [401/625], Loss: 9.1033, Val Acc: 84.8\n",
      "Epoch: [6/10], Step: [501/625], Loss: 9.9646, Val Acc: 84.66\n",
      "Epoch: [6/10], Step: [601/625], Loss: 11.1695, Val Acc: 84.5\n",
      "Epoch: [7/10], Step: [101/625], Loss: 5.0893, Val Acc: 84.18\n",
      "Epoch: [7/10], Step: [201/625], Loss: 5.8006, Val Acc: 84.64\n",
      "Epoch: [7/10], Step: [301/625], Loss: 6.8985, Val Acc: 84.12\n",
      "Epoch: [7/10], Step: [401/625], Loss: 7.0300, Val Acc: 84.98\n",
      "Epoch: [7/10], Step: [501/625], Loss: 7.4863, Val Acc: 84.4\n",
      "Epoch: [7/10], Step: [601/625], Loss: 9.5094, Val Acc: 83.22\n",
      "Epoch: [8/10], Step: [101/625], Loss: 4.0604, Val Acc: 84.26\n",
      "Epoch: [8/10], Step: [201/625], Loss: 3.7096, Val Acc: 83.6\n",
      "Epoch: [8/10], Step: [301/625], Loss: 4.7425, Val Acc: 83.8\n",
      "Epoch: [8/10], Step: [401/625], Loss: 5.4694, Val Acc: 83.74\n",
      "Epoch: [8/10], Step: [501/625], Loss: 7.1390, Val Acc: 83.88\n",
      "Epoch: [8/10], Step: [601/625], Loss: 8.6535, Val Acc: 84.26\n",
      "Epoch: [9/10], Step: [101/625], Loss: 3.4612, Val Acc: 83.86\n",
      "Epoch: [9/10], Step: [201/625], Loss: 3.2963, Val Acc: 84.3\n",
      "Epoch: [9/10], Step: [301/625], Loss: 3.6642, Val Acc: 83.84\n",
      "Epoch: [9/10], Step: [401/625], Loss: 5.0138, Val Acc: 83.5\n",
      "Epoch: [9/10], Step: [501/625], Loss: 4.6270, Val Acc: 83.86\n",
      "Epoch: [9/10], Step: [601/625], Loss: 6.4821, Val Acc: 83.72\n",
      "Epoch: [10/10], Step: [101/625], Loss: 2.1850, Val Acc: 83.8\n",
      "Epoch: [10/10], Step: [201/625], Loss: 2.8142, Val Acc: 83.9\n",
      "Epoch: [10/10], Step: [301/625], Loss: 2.9167, Val Acc: 83.8\n",
      "Epoch: [10/10], Step: [401/625], Loss: 2.3439, Val Acc: 84.0\n",
      "Epoch: [10/10], Step: [501/625], Loss: 3.3173, Val Acc: 83.74\n",
      "Epoch: [10/10], Step: [601/625], Loss: 4.3614, Val Acc: 83.68\n",
      "Epoch: [1/10], Step: [101/625], Loss: 74.3723, Val Acc: 75.96\n",
      "Epoch: [1/10], Step: [201/625], Loss: 44.6107, Val Acc: 82.74\n",
      "Epoch: [1/10], Step: [301/625], Loss: 33.7087, Val Acc: 86.38\n",
      "Epoch: [1/10], Step: [401/625], Loss: 31.1007, Val Acc: 87.7\n",
      "Epoch: [1/10], Step: [501/625], Loss: 30.5653, Val Acc: 88.1\n",
      "Epoch: [1/10], Step: [601/625], Loss: 29.6751, Val Acc: 88.22\n",
      "Epoch: [2/10], Step: [101/625], Loss: 21.0798, Val Acc: 88.76\n",
      "Epoch: [2/10], Step: [201/625], Loss: 19.3647, Val Acc: 88.52\n",
      "Epoch: [2/10], Step: [301/625], Loss: 19.7601, Val Acc: 89.3\n",
      "Epoch: [2/10], Step: [401/625], Loss: 21.3930, Val Acc: 88.78\n",
      "Epoch: [2/10], Step: [501/625], Loss: 21.4762, Val Acc: 89.36\n",
      "Epoch: [2/10], Step: [601/625], Loss: 22.5230, Val Acc: 89.02\n",
      "Epoch: [3/10], Step: [101/625], Loss: 12.2118, Val Acc: 88.66\n",
      "Epoch: [3/10], Step: [201/625], Loss: 13.7218, Val Acc: 89.32\n",
      "Epoch: [3/10], Step: [301/625], Loss: 14.9017, Val Acc: 88.18\n",
      "Epoch: [3/10], Step: [401/625], Loss: 15.7209, Val Acc: 88.66\n",
      "Epoch: [3/10], Step: [501/625], Loss: 17.1803, Val Acc: 88.34\n",
      "Epoch: [3/10], Step: [601/625], Loss: 16.4906, Val Acc: 88.28\n",
      "Epoch: [4/10], Step: [101/625], Loss: 8.9411, Val Acc: 87.94\n",
      "Epoch: [4/10], Step: [201/625], Loss: 9.6176, Val Acc: 88.44\n",
      "Epoch: [4/10], Step: [301/625], Loss: 11.0583, Val Acc: 87.18\n",
      "Epoch: [4/10], Step: [401/625], Loss: 11.6496, Val Acc: 88.24\n",
      "Epoch: [4/10], Step: [501/625], Loss: 13.2998, Val Acc: 88.12\n",
      "Epoch: [4/10], Step: [601/625], Loss: 13.5520, Val Acc: 88.04\n",
      "Epoch: [5/10], Step: [101/625], Loss: 6.8959, Val Acc: 88.1\n",
      "Epoch: [5/10], Step: [201/625], Loss: 8.2382, Val Acc: 87.66\n",
      "Epoch: [5/10], Step: [301/625], Loss: 8.0249, Val Acc: 88.06\n",
      "Epoch: [5/10], Step: [401/625], Loss: 8.1727, Val Acc: 88.12\n",
      "Epoch: [5/10], Step: [501/625], Loss: 9.3159, Val Acc: 87.64\n",
      "Epoch: [5/10], Step: [601/625], Loss: 12.3112, Val Acc: 87.3\n",
      "Epoch: [6/10], Step: [101/625], Loss: 5.7990, Val Acc: 87.68\n",
      "Epoch: [6/10], Step: [201/625], Loss: 4.7738, Val Acc: 87.56\n",
      "Epoch: [6/10], Step: [301/625], Loss: 6.1309, Val Acc: 86.62\n",
      "Epoch: [6/10], Step: [401/625], Loss: 6.4742, Val Acc: 87.42\n",
      "Epoch: [6/10], Step: [501/625], Loss: 8.4059, Val Acc: 87.32\n",
      "Epoch: [6/10], Step: [601/625], Loss: 8.2486, Val Acc: 86.32\n",
      "Epoch: [7/10], Step: [101/625], Loss: 3.0485, Val Acc: 86.58\n",
      "Epoch: [7/10], Step: [201/625], Loss: 3.1605, Val Acc: 87.06\n",
      "Epoch: [7/10], Step: [301/625], Loss: 3.4739, Val Acc: 86.3\n",
      "Epoch: [7/10], Step: [401/625], Loss: 4.9462, Val Acc: 86.26\n",
      "Epoch: [7/10], Step: [501/625], Loss: 5.7139, Val Acc: 86.62\n",
      "Epoch: [7/10], Step: [601/625], Loss: 6.8241, Val Acc: 86.92\n",
      "Epoch: [8/10], Step: [101/625], Loss: 2.8716, Val Acc: 86.96\n",
      "Epoch: [8/10], Step: [201/625], Loss: 2.9356, Val Acc: 86.9\n",
      "Epoch: [8/10], Step: [301/625], Loss: 2.3514, Val Acc: 86.74\n",
      "Epoch: [8/10], Step: [401/625], Loss: 3.5142, Val Acc: 86.76\n",
      "Epoch: [8/10], Step: [501/625], Loss: 4.8314, Val Acc: 85.96\n",
      "Epoch: [8/10], Step: [601/625], Loss: 5.2724, Val Acc: 86.62\n",
      "Epoch: [9/10], Step: [101/625], Loss: 2.3055, Val Acc: 86.36\n",
      "Epoch: [9/10], Step: [201/625], Loss: 1.8670, Val Acc: 87.06\n",
      "Epoch: [9/10], Step: [301/625], Loss: 2.4070, Val Acc: 87.1\n",
      "Epoch: [9/10], Step: [401/625], Loss: 3.2026, Val Acc: 87.02\n",
      "Epoch: [9/10], Step: [501/625], Loss: 3.0638, Val Acc: 86.42\n",
      "Epoch: [9/10], Step: [601/625], Loss: 3.0956, Val Acc: 86.64\n",
      "Epoch: [10/10], Step: [101/625], Loss: 1.5316, Val Acc: 86.86\n",
      "Epoch: [10/10], Step: [201/625], Loss: 1.3803, Val Acc: 86.92\n",
      "Epoch: [10/10], Step: [301/625], Loss: 1.5465, Val Acc: 86.92\n",
      "Epoch: [10/10], Step: [401/625], Loss: 2.1352, Val Acc: 86.64\n",
      "Epoch: [10/10], Step: [501/625], Loss: 2.0469, Val Acc: 86.54\n",
      "Epoch: [10/10], Step: [601/625], Loss: 2.0379, Val Acc: 86.78\n",
      "Epoch: [1/10], Step: [101/625], Loss: 72.8264, Val Acc: 76.44\n",
      "Epoch: [1/10], Step: [201/625], Loss: 47.2847, Val Acc: 85.52\n",
      "Epoch: [1/10], Step: [301/625], Loss: 36.3597, Val Acc: 87.14\n",
      "Epoch: [1/10], Step: [401/625], Loss: 34.4424, Val Acc: 86.3\n",
      "Epoch: [1/10], Step: [501/625], Loss: 28.9935, Val Acc: 88.5\n",
      "Epoch: [1/10], Step: [601/625], Loss: 28.5357, Val Acc: 88.7\n",
      "Epoch: [2/10], Step: [101/625], Loss: 21.1093, Val Acc: 89.26\n",
      "Epoch: [2/10], Step: [201/625], Loss: 21.9060, Val Acc: 89.1\n",
      "Epoch: [2/10], Step: [301/625], Loss: 20.7874, Val Acc: 89.56\n",
      "Epoch: [2/10], Step: [401/625], Loss: 21.1152, Val Acc: 89.38\n",
      "Epoch: [2/10], Step: [501/625], Loss: 23.8632, Val Acc: 89.28\n",
      "Epoch: [2/10], Step: [601/625], Loss: 21.0041, Val Acc: 88.52\n",
      "Epoch: [3/10], Step: [101/625], Loss: 13.8014, Val Acc: 89.0\n",
      "Epoch: [3/10], Step: [201/625], Loss: 14.8989, Val Acc: 88.76\n",
      "Epoch: [3/10], Step: [301/625], Loss: 15.1377, Val Acc: 88.48\n",
      "Epoch: [3/10], Step: [401/625], Loss: 16.4405, Val Acc: 88.88\n",
      "Epoch: [3/10], Step: [501/625], Loss: 16.9623, Val Acc: 89.18\n",
      "Epoch: [3/10], Step: [601/625], Loss: 18.0063, Val Acc: 88.92\n",
      "Epoch: [4/10], Step: [101/625], Loss: 10.3004, Val Acc: 89.02\n",
      "Epoch: [4/10], Step: [201/625], Loss: 11.7190, Val Acc: 87.16\n",
      "Epoch: [4/10], Step: [301/625], Loss: 11.5908, Val Acc: 87.96\n",
      "Epoch: [4/10], Step: [401/625], Loss: 12.4235, Val Acc: 88.82\n",
      "Epoch: [4/10], Step: [501/625], Loss: 13.8326, Val Acc: 88.84\n",
      "Epoch: [4/10], Step: [601/625], Loss: 13.1958, Val Acc: 88.78\n",
      "Epoch: [5/10], Step: [101/625], Loss: 7.4905, Val Acc: 88.44\n",
      "Epoch: [5/10], Step: [201/625], Loss: 7.3280, Val Acc: 88.04\n",
      "Epoch: [5/10], Step: [301/625], Loss: 10.5126, Val Acc: 87.16\n",
      "Epoch: [5/10], Step: [401/625], Loss: 9.2184, Val Acc: 88.18\n",
      "Epoch: [5/10], Step: [501/625], Loss: 11.1367, Val Acc: 88.34\n",
      "Epoch: [5/10], Step: [601/625], Loss: 11.8905, Val Acc: 88.48\n",
      "Epoch: [6/10], Step: [101/625], Loss: 6.8006, Val Acc: 88.44\n",
      "Epoch: [6/10], Step: [201/625], Loss: 6.3042, Val Acc: 88.18\n",
      "Epoch: [6/10], Step: [301/625], Loss: 6.7441, Val Acc: 88.1\n",
      "Epoch: [6/10], Step: [401/625], Loss: 7.3920, Val Acc: 87.92\n",
      "Epoch: [6/10], Step: [501/625], Loss: 8.9989, Val Acc: 87.5\n",
      "Epoch: [6/10], Step: [601/625], Loss: 8.4276, Val Acc: 87.26\n",
      "Epoch: [7/10], Step: [101/625], Loss: 4.2358, Val Acc: 87.36\n",
      "Epoch: [7/10], Step: [201/625], Loss: 4.2383, Val Acc: 87.78\n",
      "Epoch: [7/10], Step: [301/625], Loss: 4.9127, Val Acc: 87.94\n",
      "Epoch: [7/10], Step: [401/625], Loss: 4.8991, Val Acc: 87.68\n",
      "Epoch: [7/10], Step: [501/625], Loss: 7.0611, Val Acc: 87.42\n",
      "Epoch: [7/10], Step: [601/625], Loss: 6.8717, Val Acc: 87.34\n",
      "Epoch: [8/10], Step: [101/625], Loss: 3.0386, Val Acc: 87.44\n",
      "Epoch: [8/10], Step: [201/625], Loss: 3.5664, Val Acc: 87.48\n",
      "Epoch: [8/10], Step: [301/625], Loss: 3.9714, Val Acc: 87.16\n",
      "Epoch: [8/10], Step: [401/625], Loss: 4.3307, Val Acc: 87.32\n",
      "Epoch: [8/10], Step: [501/625], Loss: 4.2896, Val Acc: 87.1\n",
      "Epoch: [8/10], Step: [601/625], Loss: 5.3209, Val Acc: 87.34\n",
      "Epoch: [9/10], Step: [101/625], Loss: 2.1828, Val Acc: 87.14\n",
      "Epoch: [9/10], Step: [201/625], Loss: 1.9252, Val Acc: 87.1\n",
      "Epoch: [9/10], Step: [301/625], Loss: 3.9558, Val Acc: 86.98\n",
      "Epoch: [9/10], Step: [401/625], Loss: 2.7671, Val Acc: 86.96\n",
      "Epoch: [9/10], Step: [501/625], Loss: 4.0177, Val Acc: 87.4\n",
      "Epoch: [9/10], Step: [601/625], Loss: 3.4838, Val Acc: 87.22\n",
      "Epoch: [10/10], Step: [101/625], Loss: 2.0811, Val Acc: 86.66\n",
      "Epoch: [10/10], Step: [201/625], Loss: 3.5615, Val Acc: 87.18\n",
      "Epoch: [10/10], Step: [301/625], Loss: 2.5684, Val Acc: 86.94\n",
      "Epoch: [10/10], Step: [401/625], Loss: 2.7204, Val Acc: 87.04\n",
      "Epoch: [10/10], Step: [501/625], Loss: 4.6705, Val Acc: 86.42\n",
      "Epoch: [10/10], Step: [601/625], Loss: 4.2197, Val Acc: 87.0\n",
      "Epoch: [1/10], Step: [101/625], Loss: 73.6341, Val Acc: 59.1\n",
      "Epoch: [1/10], Step: [201/625], Loss: 52.2048, Val Acc: 84.9\n",
      "Epoch: [1/10], Step: [301/625], Loss: 39.6781, Val Acc: 85.5\n",
      "Epoch: [1/10], Step: [401/625], Loss: 33.5723, Val Acc: 87.82\n",
      "Epoch: [1/10], Step: [501/625], Loss: 32.7717, Val Acc: 88.56\n",
      "Epoch: [1/10], Step: [601/625], Loss: 30.2452, Val Acc: 88.56\n",
      "Epoch: [2/10], Step: [101/625], Loss: 23.0442, Val Acc: 89.3\n",
      "Epoch: [2/10], Step: [201/625], Loss: 21.9077, Val Acc: 88.92\n",
      "Epoch: [2/10], Step: [301/625], Loss: 22.3053, Val Acc: 86.4\n",
      "Epoch: [2/10], Step: [401/625], Loss: 23.5247, Val Acc: 89.04\n",
      "Epoch: [2/10], Step: [501/625], Loss: 22.5462, Val Acc: 89.46\n",
      "Epoch: [2/10], Step: [601/625], Loss: 22.9982, Val Acc: 89.62\n",
      "Epoch: [3/10], Step: [101/625], Loss: 14.7645, Val Acc: 89.36\n",
      "Epoch: [3/10], Step: [201/625], Loss: 15.5390, Val Acc: 89.2\n",
      "Epoch: [3/10], Step: [301/625], Loss: 17.0323, Val Acc: 89.54\n",
      "Epoch: [3/10], Step: [401/625], Loss: 18.8365, Val Acc: 89.76\n",
      "Epoch: [3/10], Step: [501/625], Loss: 15.7990, Val Acc: 89.78\n",
      "Epoch: [3/10], Step: [601/625], Loss: 18.1279, Val Acc: 88.28\n",
      "Epoch: [4/10], Step: [101/625], Loss: 10.8708, Val Acc: 89.52\n",
      "Epoch: [4/10], Step: [201/625], Loss: 10.4397, Val Acc: 89.4\n",
      "Epoch: [4/10], Step: [301/625], Loss: 14.1349, Val Acc: 88.46\n",
      "Epoch: [4/10], Step: [401/625], Loss: 14.0542, Val Acc: 88.42\n",
      "Epoch: [4/10], Step: [501/625], Loss: 14.5138, Val Acc: 89.16\n",
      "Epoch: [4/10], Step: [601/625], Loss: 15.2144, Val Acc: 86.8\n",
      "Epoch: [5/10], Step: [101/625], Loss: 9.6021, Val Acc: 89.12\n",
      "Epoch: [5/10], Step: [201/625], Loss: 10.0897, Val Acc: 88.36\n",
      "Epoch: [5/10], Step: [301/625], Loss: 11.6308, Val Acc: 86.32\n",
      "Epoch: [5/10], Step: [401/625], Loss: 10.3224, Val Acc: 88.64\n",
      "Epoch: [5/10], Step: [501/625], Loss: 12.1828, Val Acc: 88.14\n",
      "Epoch: [5/10], Step: [601/625], Loss: 11.0684, Val Acc: 88.42\n",
      "Epoch: [6/10], Step: [101/625], Loss: 7.5159, Val Acc: 88.5\n",
      "Epoch: [6/10], Step: [201/625], Loss: 7.8631, Val Acc: 88.48\n",
      "Epoch: [6/10], Step: [301/625], Loss: 7.2217, Val Acc: 88.66\n",
      "Epoch: [6/10], Step: [401/625], Loss: 8.8828, Val Acc: 88.16\n",
      "Epoch: [6/10], Step: [501/625], Loss: 8.4638, Val Acc: 87.62\n",
      "Epoch: [6/10], Step: [601/625], Loss: 10.6818, Val Acc: 87.94\n",
      "Epoch: [7/10], Step: [101/625], Loss: 4.7856, Val Acc: 88.24\n",
      "Epoch: [7/10], Step: [201/625], Loss: 5.3009, Val Acc: 87.96\n",
      "Epoch: [7/10], Step: [301/625], Loss: 5.1800, Val Acc: 87.96\n",
      "Epoch: [7/10], Step: [401/625], Loss: 6.7134, Val Acc: 87.5\n",
      "Epoch: [7/10], Step: [501/625], Loss: 7.8455, Val Acc: 86.58\n",
      "Epoch: [7/10], Step: [601/625], Loss: 9.7575, Val Acc: 87.72\n",
      "Epoch: [8/10], Step: [101/625], Loss: 3.8316, Val Acc: 87.64\n",
      "Epoch: [8/10], Step: [201/625], Loss: 3.9061, Val Acc: 87.48\n",
      "Epoch: [8/10], Step: [301/625], Loss: 4.1973, Val Acc: 87.14\n",
      "Epoch: [8/10], Step: [401/625], Loss: 6.5821, Val Acc: 87.42\n",
      "Epoch: [8/10], Step: [501/625], Loss: 6.6851, Val Acc: 87.28\n",
      "Epoch: [8/10], Step: [601/625], Loss: 7.8684, Val Acc: 87.26\n",
      "Epoch: [9/10], Step: [101/625], Loss: 3.7479, Val Acc: 87.24\n",
      "Epoch: [9/10], Step: [201/625], Loss: 3.7355, Val Acc: 87.34\n",
      "Epoch: [9/10], Step: [301/625], Loss: 3.6005, Val Acc: 86.0\n",
      "Epoch: [9/10], Step: [401/625], Loss: 4.3021, Val Acc: 87.3\n",
      "Epoch: [9/10], Step: [501/625], Loss: 4.7598, Val Acc: 87.12\n",
      "Epoch: [9/10], Step: [601/625], Loss: 3.8648, Val Acc: 87.3\n",
      "Epoch: [10/10], Step: [101/625], Loss: 2.1106, Val Acc: 87.1\n",
      "Epoch: [10/10], Step: [201/625], Loss: 1.9419, Val Acc: 87.3\n",
      "Epoch: [10/10], Step: [301/625], Loss: 2.7667, Val Acc: 87.08\n",
      "Epoch: [10/10], Step: [401/625], Loss: 3.6313, Val Acc: 87.18\n",
      "Epoch: [10/10], Step: [501/625], Loss: 2.7117, Val Acc: 87.08\n",
      "Epoch: [10/10], Step: [601/625], Loss: 3.2057, Val Acc: 87.22\n"
     ]
    }
   ],
   "source": [
    "val_acc_total = []\n",
    "for (N, MAX_SENTENCE_LENGTH) in Ngrams_param:\n",
    "#     N = 4\n",
    "    train_data_tokens, all_train_tokens = ngrams_inclusive(train_data_tokens_, N)\n",
    "    val_data_tokens, _ = ngrams_inclusive(val_data_tokens_, N)\n",
    "    test_data_tokens, _ = ngrams_inclusive(test_data_tokens_, N)\n",
    "\n",
    "    max_vocab_size = 10000\n",
    "    token2id, id2token = build_vocab(all_train_tokens, max_vocab_size)\n",
    "\n",
    "    train_data_indices = token2index_dataset(train_data_tokens)\n",
    "    val_data_indices = token2index_dataset(val_data_tokens)\n",
    "    test_data_indices = token2index_dataset(test_data_tokens)\n",
    "\n",
    "#     MAX_SENTENCE_LENGTH = 1200\n",
    "    BATCH_SIZE = 32\n",
    "    train_dataset = NewsGroupDataset(train_data_indices, train_targets, MAX_SENTENCE_LENGTH)\n",
    "    train_loader = torch.utils.data.DataLoader(dataset=train_dataset, \n",
    "                                               batch_size=BATCH_SIZE,\n",
    "                                               collate_fn=newsgroup_collate_func,\n",
    "                                               shuffle=True)\n",
    "\n",
    "    val_dataset = NewsGroupDataset(val_data_indices, val_targets, MAX_SENTENCE_LENGTH)\n",
    "    val_loader = torch.utils.data.DataLoader(dataset=val_dataset, \n",
    "                                               batch_size=BATCH_SIZE,\n",
    "                                               collate_fn=newsgroup_collate_func,\n",
    "                                               shuffle=True)\n",
    "\n",
    "    test_dataset = NewsGroupDataset(test_data_indices, test_targets, MAX_SENTENCE_LENGTH)\n",
    "    test_loader = torch.utils.data.DataLoader(dataset=test_dataset, \n",
    "                                               batch_size=BATCH_SIZE,\n",
    "                                               collate_fn=newsgroup_collate_func,\n",
    "                                               shuffle=False)\n",
    "\n",
    "    emb_dim = 100\n",
    "    model = BagOfWords(len(id2token), emb_dim)\n",
    "\n",
    "    learning_rate = 0.01\n",
    "    num_epochs = 10 # number epoch to train\n",
    "\n",
    "    # Criterion and Optimizer and scheduler\n",
    "    criterion = torch.nn.CrossEntropyLoss()  \n",
    "\n",
    "    optimizer = torch.optim.Adam(model.parameters(), lr=learning_rate)\n",
    "    # optimizer = torch.optim.SGD(model.parameters(), lr=learning_rate)\n",
    "\n",
    "    # scheduler = torch.optim.lr_scheduler.ReduceLROnPlateau(optimizer, 'min')\n",
    "\n",
    "    val_acc_values = []\n",
    "    for epoch in range(num_epochs):\n",
    "        running_loss = 0.0\n",
    "        for i, (data, lengths, labels) in enumerate(train_loader):\n",
    "            model.train()\n",
    "            data_batch, length_batch, label_batch = data, lengths, labels\n",
    "            optimizer.zero_grad()\n",
    "            outputs = model(data_batch, length_batch)\n",
    "            loss = criterion(outputs, label_batch)\n",
    "            running_loss += loss.item()\n",
    "            loss.backward()\n",
    "            optimizer.step()\n",
    "            # validate every 100 iterations\n",
    "            if i > 0 and i % 100 == 0:\n",
    "    #             scheduler.step(running_loss)\n",
    "                # validate\n",
    "                val_acc = test_model(val_loader, model)\n",
    "                val_acc_values.append(val_acc)\n",
    "                print('Epoch: [{}/{}], Step: [{}/{}], Loss: {:.4f}, Val Acc: {}'.format( \n",
    "                            epoch+1, num_epochs, i+1, len(train_loader), running_loss, val_acc))\n",
    "\n",
    "    #             trn_acc = test_model(train_loader, model)\n",
    "    #             print('Epoch: [{}/{}], Step: [{}/{}], Loss: {:.4f}, Trn Acc: {}, Val Acc: {}'.format( \n",
    "    #                        epoch+1, num_epochs, i+1, len(train_loader), running_loss, trn_acc, val_acc))\n",
    "                running_loss = 0.0\n",
    "    val_acc_total.append(val_acc_values)"
   ]
  },
  {
   "cell_type": "code",
   "execution_count": 49,
   "metadata": {},
   "outputs": [
    {
     "data": {
      "image/png": "[encoded data removed]",
      "text/plain": [
       "<Figure size 432x288 with 1 Axes>"
      ]
     },
     "metadata": {
      "needs_background": "light"
     },
     "output_type": "display_data"
    }
   ],
   "source": [
    "plt.clf()\n",
    "\n",
    "for i in range(len(val_acc_total)):\n",
    "    plt.plot(val_acc_total[i], label='N = %d' % (i+1))\n",
    "    \n",
    "plt.title('Validation accuracy for different N-grams')\n",
    "plt.ylabel('Val Accuracy')\n",
    "plt.legend()\n",
    "plt.savefig('ngram.png')\n",
    "plt.show()"
   ]
  },
  {
   "cell_type": "markdown",
   "metadata": {},
   "source": [
    "## Experiment for vocabulary size"
   ]
  },
  {
   "cell_type": "code",
   "execution_count": 53,
   "metadata": {},
   "outputs": [],
   "source": [
    "N = 4\n",
    "train_data_tokens, all_train_tokens = ngrams_inclusive(train_data_tokens_, N)\n",
    "val_data_tokens, _ = ngrams_inclusive(val_data_tokens_, N)\n",
    "test_data_tokens, _ = ngrams_inclusive(test_data_tokens_, N)\n",
    "MAX_SENTENCE_LENGTH = 1200"
   ]
  },
  {
   "cell_type": "code",
   "execution_count": 54,
   "metadata": {},
   "outputs": [],
   "source": [
    "max_vocab_sizes = [5000, 10000, 20000, 40000]"
   ]
  },
  {
   "cell_type": "code",
   "execution_count": 55,
   "metadata": {},
   "outputs": [
    {
     "name": "stdout",
     "output_type": "stream",
     "text": [
      "Epoch: [1/8], Step: [601/625], Loss: 30.3186, Val Acc: 87.62\n",
      "Epoch: [2/8], Step: [601/625], Loss: 26.0364, Val Acc: 88.6\n",
      "Epoch: [3/8], Step: [601/625], Loss: 23.4334, Val Acc: 87.62\n",
      "Epoch: [4/8], Step: [601/625], Loss: 20.9664, Val Acc: 88.44\n",
      "Epoch: [5/8], Step: [601/625], Loss: 19.7768, Val Acc: 88.04\n",
      "Epoch: [6/8], Step: [601/625], Loss: 20.4185, Val Acc: 83.58\n",
      "Epoch: [7/8], Step: [601/625], Loss: 18.6522, Val Acc: 87.58\n",
      "Epoch: [8/8], Step: [601/625], Loss: 16.9561, Val Acc: 86.36\n",
      "Epoch: [1/8], Step: [601/625], Loss: 31.5224, Val Acc: 88.78\n",
      "Epoch: [2/8], Step: [601/625], Loss: 22.3072, Val Acc: 88.4\n",
      "Epoch: [3/8], Step: [601/625], Loss: 17.7144, Val Acc: 89.0\n",
      "Epoch: [4/8], Step: [601/625], Loss: 18.1845, Val Acc: 88.82\n",
      "Epoch: [5/8], Step: [601/625], Loss: 12.8533, Val Acc: 87.84\n",
      "Epoch: [6/8], Step: [601/625], Loss: 9.9201, Val Acc: 88.36\n",
      "Epoch: [7/8], Step: [601/625], Loss: 9.9086, Val Acc: 87.66\n",
      "Epoch: [8/8], Step: [601/625], Loss: 7.0985, Val Acc: 87.16\n",
      "Epoch: [1/8], Step: [601/625], Loss: 28.3875, Val Acc: 89.32\n",
      "Epoch: [2/8], Step: [601/625], Loss: 19.3501, Val Acc: 90.22\n",
      "Epoch: [3/8], Step: [601/625], Loss: 12.3730, Val Acc: 89.94\n",
      "Epoch: [4/8], Step: [601/625], Loss: 7.6498, Val Acc: 88.42\n",
      "Epoch: [5/8], Step: [601/625], Loss: 4.0765, Val Acc: 88.74\n",
      "Epoch: [6/8], Step: [601/625], Loss: 1.6146, Val Acc: 89.1\n",
      "Epoch: [7/8], Step: [601/625], Loss: 0.7118, Val Acc: 88.88\n",
      "Epoch: [8/8], Step: [601/625], Loss: 0.3113, Val Acc: 88.74\n",
      "Epoch: [1/8], Step: [601/625], Loss: 26.5988, Val Acc: 90.18\n",
      "Epoch: [2/8], Step: [601/625], Loss: 16.6681, Val Acc: 90.48\n",
      "Epoch: [3/8], Step: [601/625], Loss: 7.5780, Val Acc: 90.18\n",
      "Epoch: [4/8], Step: [601/625], Loss: 1.7971, Val Acc: 90.02\n",
      "Epoch: [5/8], Step: [601/625], Loss: 0.5618, Val Acc: 90.22\n",
      "Epoch: [6/8], Step: [601/625], Loss: 0.2315, Val Acc: 90.04\n",
      "Epoch: [7/8], Step: [601/625], Loss: 0.1352, Val Acc: 90.1\n",
      "Epoch: [8/8], Step: [601/625], Loss: 0.0839, Val Acc: 90.04\n"
     ]
    }
   ],
   "source": [
    "val_acc_total = []\n",
    "for max_vocab_size in max_vocab_sizes:\n",
    "    token2id, id2token = build_vocab(all_train_tokens, max_vocab_size)\n",
    "\n",
    "    train_data_indices = token2index_dataset(train_data_tokens)\n",
    "    val_data_indices = token2index_dataset(val_data_tokens)\n",
    "    test_data_indices = token2index_dataset(test_data_tokens)\n",
    "\n",
    "    BATCH_SIZE = 32\n",
    "    train_dataset = NewsGroupDataset(train_data_indices, train_targets, MAX_SENTENCE_LENGTH)\n",
    "    train_loader = torch.utils.data.DataLoader(dataset=train_dataset, \n",
    "                                               batch_size=BATCH_SIZE,\n",
    "                                               collate_fn=newsgroup_collate_func,\n",
    "                                               shuffle=True)\n",
    "\n",
    "    val_dataset = NewsGroupDataset(val_data_indices, val_targets, MAX_SENTENCE_LENGTH)\n",
    "    val_loader = torch.utils.data.DataLoader(dataset=val_dataset, \n",
    "                                               batch_size=BATCH_SIZE,\n",
    "                                               collate_fn=newsgroup_collate_func,\n",
    "                                               shuffle=True)\n",
    "\n",
    "    test_dataset = NewsGroupDataset(test_data_indices, test_targets, MAX_SENTENCE_LENGTH)\n",
    "    test_loader = torch.utils.data.DataLoader(dataset=test_dataset, \n",
    "                                               batch_size=BATCH_SIZE,\n",
    "                                               collate_fn=newsgroup_collate_func,\n",
    "                                               shuffle=False)\n",
    "\n",
    "    emb_dim = 100\n",
    "    model = BagOfWords(len(id2token), emb_dim)\n",
    "\n",
    "    learning_rate = 0.01\n",
    "    num_epochs = 8 # number epoch to train\n",
    "\n",
    "    # Criterion and Optimizer and scheduler\n",
    "    criterion = torch.nn.CrossEntropyLoss()  \n",
    "\n",
    "    optimizer = torch.optim.Adam(model.parameters(), lr=learning_rate)\n",
    "    # optimizer = torch.optim.SGD(model.parameters(), lr=learning_rate)\n",
    "\n",
    "    # scheduler = torch.optim.lr_scheduler.ReduceLROnPlateau(optimizer, 'min')\n",
    "\n",
    "    val_acc_values = []\n",
    "    for epoch in range(num_epochs):\n",
    "        running_loss = 0.0\n",
    "        for i, (data, lengths, labels) in enumerate(train_loader):\n",
    "            model.train()\n",
    "            data_batch, length_batch, label_batch = data, lengths, labels\n",
    "            optimizer.zero_grad()\n",
    "            outputs = model(data_batch, length_batch)\n",
    "            loss = criterion(outputs, label_batch)\n",
    "            running_loss += loss.item()\n",
    "            loss.backward()\n",
    "            optimizer.step()\n",
    "            # validate every 100 iterations\n",
    "            if i > 0 and i % 100 == 0:\n",
    "    #             scheduler.step(running_loss)\n",
    "                # validate\n",
    "                val_acc = test_model(val_loader, model)\n",
    "                val_acc_values.append(val_acc)\n",
    "                if len(train_loader) - i < 100:\n",
    "                    print('Epoch: [{}/{}], Step: [{}/{}], Loss: {:.4f}, Val Acc: {}'.format( \n",
    "                                epoch+1, num_epochs, i+1, len(train_loader), running_loss, val_acc))\n",
    "\n",
    "    #             trn_acc = test_model(train_loader, model)\n",
    "    #             print('Epoch: [{}/{}], Step: [{}/{}], Loss: {:.4f}, Trn Acc: {}, Val Acc: {}'.format( \n",
    "    #                        epoch+1, num_epochs, i+1, len(train_loader), running_loss, trn_acc, val_acc))\n",
    "                running_loss = 0.0\n",
    "    val_acc_total.append(val_acc_values)"
   ]
  },
  {
   "cell_type": "code",
   "execution_count": 56,
   "metadata": {},
   "outputs": [
    {
     "data": {
      "image/png": "[encoded data removed]",
      "text/plain": [
       "<Figure size 432x288 with 1 Axes>"
      ]
     },
     "metadata": {
      "needs_background": "light"
     },
     "output_type": "display_data"
    }
   ],
   "source": [
    "plt.clf()\n",
    "\n",
    "for i in range(len(val_acc_total)):\n",
    "    plt.plot(val_acc_total[i], label='Vocabulary size = %d' % max_vocab_sizes[i])\n",
    "    \n",
    "plt.title('Validation accuracy for different vocabulary sizes')\n",
    "plt.ylabel('Val Accuracy')\n",
    "plt.legend()\n",
    "plt.savefig('voc_size.png')\n",
    "plt.show()"
   ]
  },
  {
   "cell_type": "markdown",
   "metadata": {},
   "source": [
    "## Experiment for embedding size"
   ]
  },
  {
   "cell_type": "code",
   "execution_count": 57,
   "metadata": {},
   "outputs": [],
   "source": [
    "N = 4\n",
    "train_data_tokens, all_train_tokens = ngrams_inclusive(train_data_tokens_, N)\n",
    "val_data_tokens, _ = ngrams_inclusive(val_data_tokens_, N)\n",
    "test_data_tokens, _ = ngrams_inclusive(test_data_tokens_, N)\n",
    "MAX_SENTENCE_LENGTH = 1200\n",
    "max_vocab_size = 40000\n",
    "\n",
    "token2id, id2token = build_vocab(all_train_tokens, max_vocab_size)\n",
    "\n",
    "train_data_indices = token2index_dataset(train_data_tokens)\n",
    "val_data_indices = token2index_dataset(val_data_tokens)\n",
    "test_data_indices = token2index_dataset(test_data_tokens)"
   ]
  },
  {
   "cell_type": "code",
   "execution_count": 58,
   "metadata": {},
   "outputs": [],
   "source": [
    "emb_dims = [50, 100, 200, 400]"
   ]
  },
  {
   "cell_type": "code",
   "execution_count": 60,
   "metadata": {},
   "outputs": [
    {
     "name": "stdout",
     "output_type": "stream",
     "text": [
      "Epoch: [1/8], Step: [601/625], Loss: 27.8666, Val Acc: 88.56\n",
      "Epoch: [2/8], Step: [601/625], Loss: 17.1870, Val Acc: 90.92\n",
      "Epoch: [3/8], Step: [601/625], Loss: 7.7410, Val Acc: 90.86\n",
      "Epoch: [4/8], Step: [601/625], Loss: 4.1354, Val Acc: 90.46\n",
      "Epoch: [5/8], Step: [601/625], Loss: 1.3143, Val Acc: 90.22\n",
      "Epoch: [6/8], Step: [601/625], Loss: 0.6798, Val Acc: 90.26\n",
      "Epoch: [7/8], Step: [601/625], Loss: 0.3157, Val Acc: 90.42\n",
      "Epoch: [8/8], Step: [601/625], Loss: 0.1922, Val Acc: 90.1\n",
      "Epoch: [1/8], Step: [601/625], Loss: 27.0779, Val Acc: 90.12\n",
      "Epoch: [2/8], Step: [601/625], Loss: 12.9351, Val Acc: 90.96\n",
      "Epoch: [3/8], Step: [601/625], Loss: 6.4808, Val Acc: 90.56\n",
      "Epoch: [4/8], Step: [601/625], Loss: 1.5511, Val Acc: 90.14\n",
      "Epoch: [5/8], Step: [601/625], Loss: 0.5035, Val Acc: 90.22\n",
      "Epoch: [6/8], Step: [601/625], Loss: 0.2371, Val Acc: 90.24\n",
      "Epoch: [7/8], Step: [601/625], Loss: 0.2156, Val Acc: 90.18\n",
      "Epoch: [8/8], Step: [601/625], Loss: 0.1687, Val Acc: 90.32\n",
      "Epoch: [1/8], Step: [601/625], Loss: 26.9280, Val Acc: 89.9\n",
      "Epoch: [2/8], Step: [601/625], Loss: 13.4348, Val Acc: 90.36\n",
      "Epoch: [3/8], Step: [601/625], Loss: 5.1881, Val Acc: 89.72\n",
      "Epoch: [4/8], Step: [601/625], Loss: 0.8565, Val Acc: 90.16\n",
      "Epoch: [5/8], Step: [601/625], Loss: 0.3128, Val Acc: 90.24\n",
      "Epoch: [6/8], Step: [601/625], Loss: 0.1288, Val Acc: 90.32\n",
      "Epoch: [7/8], Step: [601/625], Loss: 0.0835, Val Acc: 90.4\n",
      "Epoch: [8/8], Step: [601/625], Loss: 0.0504, Val Acc: 90.3\n",
      "Epoch: [1/8], Step: [601/625], Loss: 24.7206, Val Acc: 90.68\n",
      "Epoch: [2/8], Step: [601/625], Loss: 16.4228, Val Acc: 89.88\n",
      "Epoch: [3/8], Step: [601/625], Loss: 4.5174, Val Acc: 89.66\n",
      "Epoch: [4/8], Step: [601/625], Loss: 0.8126, Val Acc: 90.0\n",
      "Epoch: [5/8], Step: [601/625], Loss: 0.1917, Val Acc: 90.12\n",
      "Epoch: [6/8], Step: [601/625], Loss: 0.0767, Val Acc: 89.96\n",
      "Epoch: [7/8], Step: [601/625], Loss: 0.0469, Val Acc: 89.98\n",
      "Epoch: [8/8], Step: [601/625], Loss: 0.0317, Val Acc: 90.0\n"
     ]
    }
   ],
   "source": [
    "val_acc_total = []\n",
    "for emb_dim in emb_dims:\n",
    "    BATCH_SIZE = 32\n",
    "    train_dataset = NewsGroupDataset(train_data_indices, train_targets, MAX_SENTENCE_LENGTH)\n",
    "    train_loader = torch.utils.data.DataLoader(dataset=train_dataset, \n",
    "                                               batch_size=BATCH_SIZE,\n",
    "                                               collate_fn=newsgroup_collate_func,\n",
    "                                               shuffle=True)\n",
    "\n",
    "    val_dataset = NewsGroupDataset(val_data_indices, val_targets, MAX_SENTENCE_LENGTH)\n",
    "    val_loader = torch.utils.data.DataLoader(dataset=val_dataset, \n",
    "                                               batch_size=BATCH_SIZE,\n",
    "                                               collate_fn=newsgroup_collate_func,\n",
    "                                               shuffle=True)\n",
    "\n",
    "    test_dataset = NewsGroupDataset(test_data_indices, test_targets, MAX_SENTENCE_LENGTH)\n",
    "    test_loader = torch.utils.data.DataLoader(dataset=test_dataset, \n",
    "                                               batch_size=BATCH_SIZE,\n",
    "                                               collate_fn=newsgroup_collate_func,\n",
    "                                               shuffle=False)\n",
    "\n",
    "    model = BagOfWords(len(id2token), emb_dim)\n",
    "\n",
    "    learning_rate = 0.01\n",
    "    num_epochs = 8 # number epoch to train\n",
    "\n",
    "    # Criterion and Optimizer and scheduler\n",
    "    criterion = torch.nn.CrossEntropyLoss()  \n",
    "\n",
    "    optimizer = torch.optim.Adam(model.parameters(), lr=learning_rate)\n",
    "    # optimizer = torch.optim.SGD(model.parameters(), lr=learning_rate)\n",
    "\n",
    "    # scheduler = torch.optim.lr_scheduler.ReduceLROnPlateau(optimizer, 'min')\n",
    "\n",
    "    val_acc_values = []\n",
    "    for epoch in range(num_epochs):\n",
    "        running_loss = 0.0\n",
    "        for i, (data, lengths, labels) in enumerate(train_loader):\n",
    "            model.train()\n",
    "            data_batch, length_batch, label_batch = data, lengths, labels\n",
    "            optimizer.zero_grad()\n",
    "            outputs = model(data_batch, length_batch)\n",
    "            loss = criterion(outputs, label_batch)\n",
    "            running_loss += loss.item()\n",
    "            loss.backward()\n",
    "            optimizer.step()\n",
    "            # validate every 100 iterations\n",
    "            if i > 0 and i % 100 == 0:\n",
    "    #             scheduler.step(running_loss)\n",
    "                # validate\n",
    "                val_acc = test_model(val_loader, model)\n",
    "                val_acc_values.append(val_acc)\n",
    "                if len(train_loader) - i < 100:\n",
    "                    print('Epoch: [{}/{}], Step: [{}/{}], Loss: {:.4f}, Val Acc: {}'.format( \n",
    "                                epoch+1, num_epochs, i+1, len(train_loader), running_loss, val_acc))\n",
    "\n",
    "    #             trn_acc = test_model(train_loader, model)\n",
    "    #             print('Epoch: [{}/{}], Step: [{}/{}], Loss: {:.4f}, Trn Acc: {}, Val Acc: {}'.format( \n",
    "    #                        epoch+1, num_epochs, i+1, len(train_loader), running_loss, trn_acc, val_acc))\n",
    "                running_loss = 0.0\n",
    "    val_acc_total.append(val_acc_values)"
   ]
  },
  {
   "cell_type": "code",
   "execution_count": 63,
   "metadata": {},
   "outputs": [
    {
     "data": {
      "image/png": "[encoded data removed]",
      "text/plain": [
       "<Figure size 432x288 with 1 Axes>"
      ]
     },
     "metadata": {
      "needs_background": "light"
     },
     "output_type": "display_data"
    }
   ],
   "source": [
    "plt.clf()\n",
    "\n",
    "for i in range(len(val_acc_total)):\n",
    "    plt.plot(val_acc_total[i], label='Embedding size = %d' % emb_dims[i])\n",
    "    \n",
    "plt.title('Validation accuracy for different embedding sizes')\n",
    "plt.ylabel('Val Accuracy')\n",
    "plt.legend()\n",
    "plt.savefig('emb_size.png')\n",
    "plt.show()"
   ]
  },
  {
   "cell_type": "markdown",
   "metadata": {},
   "source": [
    "## Experiment for Optimizers"
   ]
  },
  {
   "cell_type": "code",
   "execution_count": 68,
   "metadata": {},
   "outputs": [],
   "source": [
    "N = 1\n",
    "train_data_tokens, all_train_tokens = ngrams_inclusive(train_data_tokens_, N)\n",
    "val_data_tokens, _ = ngrams_inclusive(val_data_tokens_, N)\n",
    "test_data_tokens, _ = ngrams_inclusive(test_data_tokens_, N)\n",
    "MAX_SENTENCE_LENGTH = 200\n",
    "max_vocab_size = 10000\n",
    "\n",
    "token2id, id2token = build_vocab(all_train_tokens, max_vocab_size)\n",
    "\n",
    "train_data_indices = token2index_dataset(train_data_tokens)\n",
    "val_data_indices = token2index_dataset(val_data_tokens)\n",
    "test_data_indices = token2index_dataset(test_data_tokens)\n",
    "\n",
    "emb_dims = 50"
   ]
  },
  {
   "cell_type": "code",
   "execution_count": 83,
   "metadata": {},
   "outputs": [],
   "source": [
    "# optimizers = ['adam', 'sgd']\n",
    "optimizers = ['sgd']"
   ]
  },
  {
   "cell_type": "code",
   "execution_count": null,
   "metadata": {},
   "outputs": [],
   "source": [
    "val_acc_total = []"
   ]
  },
  {
   "cell_type": "code",
   "execution_count": 87,
   "metadata": {},
   "outputs": [
    {
     "name": "stdout",
     "output_type": "stream",
     "text": [
      "Epoch: [1/10], Step: [601/625], Loss: 52.8867, Val Acc: 74.04\n",
      "Epoch: [2/10], Step: [601/625], Loss: 50.0436, Val Acc: 75.24\n",
      "Epoch: [3/10], Step: [601/625], Loss: 48.8153, Val Acc: 75.7\n",
      "Epoch: [4/10], Step: [601/625], Loss: 44.4639, Val Acc: 78.46\n",
      "Epoch: [5/10], Step: [601/625], Loss: 44.6653, Val Acc: 77.1\n",
      "Epoch: [6/10], Step: [601/625], Loss: 43.1931, Val Acc: 78.36\n",
      "Epoch: [7/10], Step: [601/625], Loss: 41.0891, Val Acc: 80.18\n",
      "Epoch: [8/10], Step: [601/625], Loss: 41.8170, Val Acc: 80.36\n",
      "Epoch: [9/10], Step: [601/625], Loss: 41.6292, Val Acc: 79.78\n",
      "Epoch: [10/10], Step: [601/625], Loss: 37.3721, Val Acc: 79.72\n"
     ]
    }
   ],
   "source": [
    "for opt in optimizers:\n",
    "    BATCH_SIZE = 32\n",
    "    train_dataset = NewsGroupDataset(train_data_indices, train_targets, MAX_SENTENCE_LENGTH)\n",
    "    train_loader = torch.utils.data.DataLoader(dataset=train_dataset, \n",
    "                                               batch_size=BATCH_SIZE,\n",
    "                                               collate_fn=newsgroup_collate_func,\n",
    "                                               shuffle=True)\n",
    "\n",
    "    val_dataset = NewsGroupDataset(val_data_indices, val_targets, MAX_SENTENCE_LENGTH)\n",
    "    val_loader = torch.utils.data.DataLoader(dataset=val_dataset, \n",
    "                                               batch_size=BATCH_SIZE,\n",
    "                                               collate_fn=newsgroup_collate_func,\n",
    "                                               shuffle=True)\n",
    "\n",
    "    test_dataset = NewsGroupDataset(test_data_indices, test_targets, MAX_SENTENCE_LENGTH)\n",
    "    test_loader = torch.utils.data.DataLoader(dataset=test_dataset, \n",
    "                                               batch_size=BATCH_SIZE,\n",
    "                                               collate_fn=newsgroup_collate_func,\n",
    "                                               shuffle=False)\n",
    "\n",
    "    model = BagOfWords(len(id2token), emb_dim)\n",
    "\n",
    "    learning_rate = 0.5\n",
    "    num_epochs = 10 # number epoch to train\n",
    "\n",
    "    # Criterion and Optimizer and scheduler\n",
    "    criterion = torch.nn.CrossEntropyLoss()  \n",
    "\n",
    "    if opt is 'adam':\n",
    "        optimizer = torch.optim.Adam(model.parameters(), lr=learning_rate)\n",
    "    elif opt is 'sgd':\n",
    "        optimizer = torch.optim.SGD(model.parameters(), lr=learning_rate)\n",
    "\n",
    "    # scheduler = torch.optim.lr_scheduler.ReduceLROnPlateau(optimizer, 'min')\n",
    "\n",
    "    val_acc_values = []\n",
    "    for epoch in range(num_epochs):\n",
    "        running_loss = 0.0\n",
    "        for i, (data, lengths, labels) in enumerate(train_loader):\n",
    "            model.train()\n",
    "            data_batch, length_batch, label_batch = data, lengths, labels\n",
    "            optimizer.zero_grad()\n",
    "            outputs = model(data_batch, length_batch)\n",
    "            loss = criterion(outputs, label_batch)\n",
    "            running_loss += loss.item()\n",
    "            loss.backward()\n",
    "            optimizer.step()\n",
    "            # validate every 100 iterations\n",
    "            if i > 0 and i % 100 == 0:\n",
    "    #             scheduler.step(running_loss)\n",
    "                # validate\n",
    "                val_acc = test_model(val_loader, model)\n",
    "                val_acc_values.append(val_acc)\n",
    "                if len(train_loader) - i < 100:\n",
    "                    print('Epoch: [{}/{}], Step: [{}/{}], Loss: {:.4f}, Val Acc: {}'.format( \n",
    "                                epoch+1, num_epochs, i+1, len(train_loader), running_loss, val_acc))\n",
    "\n",
    "    #             trn_acc = test_model(train_loader, model)\n",
    "    #             print('Epoch: [{}/{}], Step: [{}/{}], Loss: {:.4f}, Trn Acc: {}, Val Acc: {}'.format( \n",
    "    #                        epoch+1, num_epochs, i+1, len(train_loader), running_loss, trn_acc, val_acc))\n",
    "                running_loss = 0.0\n",
    "    val_acc_total.append(val_acc_values)"
   ]
  },
  {
   "cell_type": "code",
   "execution_count": 90,
   "metadata": {},
   "outputs": [
    {
     "data": {
      "image/png": "[encoded data removed]",
      "text/plain": [
       "<Figure size 432x288 with 1 Axes>"
      ]
     },
     "metadata": {
      "needs_background": "light"
     },
     "output_type": "display_data"
    }
   ],
   "source": [
    "plt.clf()\n",
    "\n",
    "plt.plot(val_acc_total[0], label='Adam')\n",
    "plt.plot(val_acc_total[1], label='SGD')\n",
    "    \n",
    "plt.title('Validation accuracy for different optimizers')\n",
    "plt.ylabel('Val Accuracy')\n",
    "plt.legend()\n",
    "plt.savefig('optimizer.png')\n",
    "plt.show()"
   ]
  },
  {
   "cell_type": "markdown",
   "metadata": {},
   "source": [
    "## Experiment for LR"
   ]
  },
  {
   "cell_type": "code",
   "execution_count": 91,
   "metadata": {},
   "outputs": [],
   "source": [
    "N = 4\n",
    "train_data_tokens, all_train_tokens = ngrams_inclusive(train_data_tokens_, N)\n",
    "val_data_tokens, _ = ngrams_inclusive(val_data_tokens_, N)\n",
    "test_data_tokens, _ = ngrams_inclusive(test_data_tokens_, N)\n",
    "MAX_SENTENCE_LENGTH = 1200\n",
    "max_vocab_size = 40000\n",
    "\n",
    "token2id, id2token = build_vocab(all_train_tokens, max_vocab_size)\n",
    "\n",
    "train_data_indices = token2index_dataset(train_data_tokens)\n",
    "val_data_indices = token2index_dataset(val_data_tokens)\n",
    "test_data_indices = token2index_dataset(test_data_tokens)"
   ]
  },
  {
   "cell_type": "code",
   "execution_count": 109,
   "metadata": {},
   "outputs": [],
   "source": [
    "lrs = [0.01, 0.1, 0.5]"
   ]
  },
  {
   "cell_type": "code",
   "execution_count": 95,
   "metadata": {},
   "outputs": [],
   "source": [
    "val_acc_total = []"
   ]
  },
  {
   "cell_type": "code",
   "execution_count": null,
   "metadata": {},
   "outputs": [],
   "source": [
    "for learning_rate in lrs:\n",
    "    BATCH_SIZE = 32\n",
    "    train_dataset = NewsGroupDataset(train_data_indices, train_targets, MAX_SENTENCE_LENGTH)\n",
    "    train_loader = torch.utils.data.DataLoader(dataset=train_dataset, \n",
    "                                               batch_size=BATCH_SIZE,\n",
    "                                               collate_fn=newsgroup_collate_func,\n",
    "                                               shuffle=True)\n",
    "\n",
    "    val_dataset = NewsGroupDataset(val_data_indices, val_targets, MAX_SENTENCE_LENGTH)\n",
    "    val_loader = torch.utils.data.DataLoader(dataset=val_dataset, \n",
    "                                               batch_size=BATCH_SIZE,\n",
    "                                               collate_fn=newsgroup_collate_func,\n",
    "                                               shuffle=True)\n",
    "\n",
    "    test_dataset = NewsGroupDataset(test_data_indices, test_targets, MAX_SENTENCE_LENGTH)\n",
    "    test_loader = torch.utils.data.DataLoader(dataset=test_dataset, \n",
    "                                               batch_size=BATCH_SIZE,\n",
    "                                               collate_fn=newsgroup_collate_func,\n",
    "                                               shuffle=False)\n",
    "\n",
    "    model = BagOfWords(len(id2token), emb_dim)\n",
    "\n",
    "    num_epochs = 5 # number epoch to train\n",
    "\n",
    "    # Criterion and Optimizer and scheduler\n",
    "    criterion = torch.nn.CrossEntropyLoss()  \n",
    "\n",
    "    optimizer = torch.optim.Adam(model.parameters(), lr=learning_rate)\n",
    "    # optimizer = torch.optim.SGD(model.parameters(), lr=learning_rate)\n",
    "\n",
    "    scheduler = torch.optim.lr_scheduler.ReduceLROnPlateau(optimizer, 'min')\n",
    "\n",
    "    val_acc_values = []\n",
    "    for epoch in range(num_epochs):\n",
    "        running_loss = 0.0\n",
    "        for i, (data, lengths, labels) in enumerate(train_loader):\n",
    "            model.train()\n",
    "            data_batch, length_batch, label_batch = data, lengths, labels\n",
    "            optimizer.zero_grad()\n",
    "            outputs = model(data_batch, length_batch)\n",
    "            loss = criterion(outputs, label_batch)\n",
    "            running_loss += loss.item()\n",
    "            loss.backward()\n",
    "            optimizer.step()\n",
    "            # validate every 100 iterations\n",
    "            if i > 0 and i % 100 == 0:\n",
    "                scheduler.step(running_loss)\n",
    "                # validate\n",
    "                val_acc = test_model(val_loader, model)\n",
    "                val_acc_values.append(val_acc)\n",
    "                if len(train_loader) - i < 100:\n",
    "                    print('Epoch: [{}/{}], Step: [{}/{}], Loss: {:.4f}, Val Acc: {}'.format( \n",
    "                                epoch+1, num_epochs, i+1, len(train_loader), running_loss, val_acc))\n",
    "\n",
    "    #             trn_acc = test_model(train_loader, model)\n",
    "    #             print('Epoch: [{}/{}], Step: [{}/{}], Loss: {:.4f}, Trn Acc: {}, Val Acc: {}'.format( \n",
    "    #                        epoch+1, num_epochs, i+1, len(train_loader), running_loss, trn_acc, val_acc))\n",
    "                running_loss = 0.0\n",
    "    val_acc_total.append(val_acc_values)"
   ]
  },
  {
   "cell_type": "code",
   "execution_count": 129,
   "metadata": {},
   "outputs": [
    {
     "data": {
      "text/plain": [
       "4"
      ]
     },
     "execution_count": 129,
     "metadata": {},
     "output_type": "execute_result"
    }
   ],
   "source": [
    "len(val_acc_total_backup)"
   ]
  },
  {
   "cell_type": "code",
   "execution_count": 116,
   "metadata": {},
   "outputs": [
    {
     "data": {
      "image/png": "[encoded data removed]",
      "text/plain": [
       "<Figure size 432x288 with 1 Axes>"
      ]
     },
     "metadata": {
      "needs_background": "light"
     },
     "output_type": "display_data"
    }
   ],
   "source": [
    "plt.clf()\n",
    "\n",
    "for i in range(3):\n",
    "    plt.plot(val_acc_total[i], label='lr = %.2f' % lrs[i])\n",
    "plt.plot(val_acc_total[3], label='lr = 0.01(linear annealing)')\n",
    "    \n",
    "plt.title('Validation accuracy for different lrs')\n",
    "plt.ylabel('Val Accuracy')\n",
    "plt.legend()\n",
    "plt.savefig('lr.png')\n",
    "plt.show()"
   ]
  },
  {
   "cell_type": "markdown",
   "metadata": {},
   "source": [
    "## Experiment for Max sentence length"
   ]
  },
  {
   "cell_type": "code",
   "execution_count": 130,
   "metadata": {},
   "outputs": [],
   "source": [
    "N = 4\n",
    "train_data_tokens, all_train_tokens = ngrams_inclusive(train_data_tokens_, N)\n",
    "val_data_tokens, _ = ngrams_inclusive(val_data_tokens_, N)\n",
    "test_data_tokens, _ = ngrams_inclusive(test_data_tokens_, N)\n",
    "max_vocab_size = 40000\n",
    "\n",
    "token2id, id2token = build_vocab(all_train_tokens, max_vocab_size)\n",
    "\n",
    "train_data_indices = token2index_dataset(train_data_tokens)\n",
    "val_data_indices = token2index_dataset(val_data_tokens)\n",
    "test_data_indices = token2index_dataset(test_data_tokens)\n",
    "\n",
    "learning_rate = 0.01"
   ]
  },
  {
   "cell_type": "code",
   "execution_count": 135,
   "metadata": {},
   "outputs": [],
   "source": [
    "MAX_SENTENCE_LENGTHs = [200, 500, 1200]"
   ]
  },
  {
   "cell_type": "code",
   "execution_count": 136,
   "metadata": {},
   "outputs": [],
   "source": [
    "val_acc_total_msl = []"
   ]
  },
  {
   "cell_type": "code",
   "execution_count": 137,
   "metadata": {},
   "outputs": [
    {
     "name": "stdout",
     "output_type": "stream",
     "text": [
      "Epoch: [1/5], Step: [601/625], Loss: 31.6280, Val Acc: 87.1\n",
      "Epoch: [2/5], Step: [601/625], Loss: 18.8370, Val Acc: 85.68\n",
      "Epoch: [3/5], Step: [601/625], Loss: 12.6479, Val Acc: 85.64\n",
      "Epoch: [4/5], Step: [601/625], Loss: 7.8727, Val Acc: 84.5\n",
      "Epoch: [5/5], Step: [601/625], Loss: 4.7173, Val Acc: 84.5\n",
      "Epoch: [1/5], Step: [601/625], Loss: 29.1900, Val Acc: 90.38\n",
      "Epoch: [2/5], Step: [601/625], Loss: 12.5297, Val Acc: 89.5\n",
      "Epoch: [3/5], Step: [601/625], Loss: 4.3598, Val Acc: 89.42\n",
      "Epoch: [4/5], Step: [601/625], Loss: 0.5721, Val Acc: 89.12\n",
      "Epoch: [5/5], Step: [601/625], Loss: 0.1014, Val Acc: 89.42\n",
      "Epoch: [1/5], Step: [601/625], Loss: 26.4075, Val Acc: 90.62\n",
      "Epoch: [2/5], Step: [601/625], Loss: 12.8026, Val Acc: 90.18\n",
      "Epoch: [3/5], Step: [601/625], Loss: 3.6481, Val Acc: 89.78\n",
      "Epoch: [4/5], Step: [601/625], Loss: 0.4504, Val Acc: 89.98\n",
      "Epoch: [5/5], Step: [601/625], Loss: 0.1353, Val Acc: 89.82\n"
     ]
    }
   ],
   "source": [
    "for MAX_SENTENCE_LENGTH in MAX_SENTENCE_LENGTHs:\n",
    "    BATCH_SIZE = 32\n",
    "    train_dataset = NewsGroupDataset(train_data_indices, train_targets, MAX_SENTENCE_LENGTH)\n",
    "    train_loader = torch.utils.data.DataLoader(dataset=train_dataset, \n",
    "                                               batch_size=BATCH_SIZE,\n",
    "                                               collate_fn=newsgroup_collate_func,\n",
    "                                               shuffle=True)\n",
    "\n",
    "    val_dataset = NewsGroupDataset(val_data_indices, val_targets, MAX_SENTENCE_LENGTH)\n",
    "    val_loader = torch.utils.data.DataLoader(dataset=val_dataset, \n",
    "                                               batch_size=BATCH_SIZE,\n",
    "                                               collate_fn=newsgroup_collate_func,\n",
    "                                               shuffle=True)\n",
    "\n",
    "    test_dataset = NewsGroupDataset(test_data_indices, test_targets, MAX_SENTENCE_LENGTH)\n",
    "    test_loader = torch.utils.data.DataLoader(dataset=test_dataset, \n",
    "                                               batch_size=BATCH_SIZE,\n",
    "                                               collate_fn=newsgroup_collate_func,\n",
    "                                               shuffle=False)\n",
    "\n",
    "    model = BagOfWords(len(id2token), emb_dim)\n",
    "\n",
    "    num_epochs = 5 # number epoch to train\n",
    "\n",
    "    # Criterion and Optimizer and scheduler\n",
    "    criterion = torch.nn.CrossEntropyLoss()  \n",
    "\n",
    "    optimizer = torch.optim.Adam(model.parameters(), lr=learning_rate)\n",
    "    # optimizer = torch.optim.SGD(model.parameters(), lr=learning_rate)\n",
    "\n",
    "    scheduler = torch.optim.lr_scheduler.ReduceLROnPlateau(optimizer, 'min')\n",
    "\n",
    "    val_acc_values = []\n",
    "    for epoch in range(num_epochs):\n",
    "        running_loss = 0.0\n",
    "        for i, (data, lengths, labels) in enumerate(train_loader):\n",
    "            model.train()\n",
    "            data_batch, length_batch, label_batch = data, lengths, labels\n",
    "            optimizer.zero_grad()\n",
    "            outputs = model(data_batch, length_batch)\n",
    "            loss = criterion(outputs, label_batch)\n",
    "            running_loss += loss.item()\n",
    "            loss.backward()\n",
    "            optimizer.step()\n",
    "            # validate every 100 iterations\n",
    "            if i > 0 and i % 100 == 0:\n",
    "                scheduler.step(running_loss)\n",
    "                # validate\n",
    "                val_acc = test_model(val_loader, model)\n",
    "                val_acc_values.append(val_acc)\n",
    "                if len(train_loader) - i < 100:\n",
    "                    print('Epoch: [{}/{}], Step: [{}/{}], Loss: {:.4f}, Val Acc: {}'.format( \n",
    "                                epoch+1, num_epochs, i+1, len(train_loader), running_loss, val_acc))\n",
    "\n",
    "    #             trn_acc = test_model(train_loader, model)\n",
    "    #             print('Epoch: [{}/{}], Step: [{}/{}], Loss: {:.4f}, Trn Acc: {}, Val Acc: {}'.format( \n",
    "    #                        epoch+1, num_epochs, i+1, len(train_loader), running_loss, trn_acc, val_acc))\n",
    "                running_loss = 0.0\n",
    "    val_acc_total_msl.append(val_acc_values)"
   ]
  },
  {
   "cell_type": "code",
   "execution_count": 129,
   "metadata": {},
   "outputs": [
    {
     "data": {
      "text/plain": [
       "4"
      ]
     },
     "execution_count": 129,
     "metadata": {},
     "output_type": "execute_result"
    }
   ],
   "source": [
    "len(val_acc_total_backup)"
   ]
  },
  {
   "cell_type": "code",
   "execution_count": 139,
   "metadata": {},
   "outputs": [
    {
     "data": {
      "image/png": "[encoded data removed]",
      "text/plain": [
       "<Figure size 432x288 with 1 Axes>"
      ]
     },
     "metadata": {
      "needs_background": "light"
     },
     "output_type": "display_data"
    }
   ],
   "source": [
    "plt.clf()\n",
    "\n",
    "for i in range(len(val_acc_total_msl)):\n",
    "    plt.plot(val_acc_total_msl[i], label= 'max sentence length = %d' % MAX_SENTENCE_LENGTHs[i])\n",
    "    \n",
    "plt.title('Validation accuracy for different max sentence lengths')\n",
    "plt.ylabel('Val Accuracy')\n",
    "plt.legend()\n",
    "plt.savefig('msl.png')\n",
    "plt.show()"
   ]
  },
  {
   "cell_type": "markdown",
   "metadata": {},
   "source": [
    "## Predicting Results"
   ]
  },
  {
   "cell_type": "code",
   "execution_count": 117,
   "metadata": {},
   "outputs": [],
   "source": [
    "N = 4\n",
    "train_data_tokens, all_train_tokens = ngrams_inclusive(train_data_tokens_, N)\n",
    "val_data_tokens, _ = ngrams_inclusive(val_data_tokens_, N)\n",
    "test_data_tokens, _ = ngrams_inclusive(test_data_tokens_, N)\n",
    "MAX_SENTENCE_LENGTH = 1200\n",
    "max_vocab_size = 40000\n",
    "\n",
    "token2id, id2token = build_vocab(all_train_tokens, max_vocab_size)\n",
    "\n",
    "train_data_indices = token2index_dataset(train_data_tokens)\n",
    "val_data_indices = token2index_dataset(val_data_tokens)\n",
    "test_data_indices = token2index_dataset(test_data_tokens)\n",
    "\n",
    "learning_rate = 0.01"
   ]
  },
  {
   "cell_type": "code",
   "execution_count": 118,
   "metadata": {},
   "outputs": [
    {
     "name": "stdout",
     "output_type": "stream",
     "text": [
      "Epoch: [1/5], Step: [601/625], Loss: 30.8210, Val Acc: 89.52\n",
      "Epoch: [2/5], Step: [601/625], Loss: 12.5483, Val Acc: 87.86\n",
      "Epoch: [3/5], Step: [601/625], Loss: 3.6955, Val Acc: 88.26\n",
      "Epoch: [4/5], Step: [601/625], Loss: 0.6112, Val Acc: 90.1\n",
      "Epoch: [5/5], Step: [601/625], Loss: 0.1962, Val Acc: 90.26\n"
     ]
    }
   ],
   "source": [
    "BATCH_SIZE = 32\n",
    "train_dataset = NewsGroupDataset(train_data_indices, train_targets, MAX_SENTENCE_LENGTH)\n",
    "train_loader = torch.utils.data.DataLoader(dataset=train_dataset, \n",
    "                                           batch_size=BATCH_SIZE,\n",
    "                                           collate_fn=newsgroup_collate_func,\n",
    "                                           shuffle=True)\n",
    "\n",
    "val_dataset = NewsGroupDataset(val_data_indices, val_targets, MAX_SENTENCE_LENGTH)\n",
    "val_loader = torch.utils.data.DataLoader(dataset=val_dataset, \n",
    "                                           batch_size=BATCH_SIZE,\n",
    "                                           collate_fn=newsgroup_collate_func,\n",
    "                                           shuffle=True)\n",
    "\n",
    "test_dataset = NewsGroupDataset(test_data_indices, test_targets, MAX_SENTENCE_LENGTH)\n",
    "test_loader = torch.utils.data.DataLoader(dataset=test_dataset, \n",
    "                                           batch_size=BATCH_SIZE,\n",
    "                                           collate_fn=newsgroup_collate_func,\n",
    "                                           shuffle=False)\n",
    "\n",
    "model = BagOfWords(len(id2token), emb_dim)\n",
    "\n",
    "num_epochs = 5 # number epoch to train\n",
    "\n",
    "# Criterion and Optimizer and scheduler\n",
    "criterion = torch.nn.CrossEntropyLoss()  \n",
    "\n",
    "optimizer = torch.optim.Adam(model.parameters(), lr=learning_rate)\n",
    "# optimizer = torch.optim.SGD(model.parameters(), lr=learning_rate)\n",
    "\n",
    "scheduler = torch.optim.lr_scheduler.ReduceLROnPlateau(optimizer, 'min')\n",
    "\n",
    "val_acc_values = []\n",
    "for epoch in range(num_epochs):\n",
    "    running_loss = 0.0\n",
    "    for i, (data, lengths, labels) in enumerate(train_loader):\n",
    "        model.train()\n",
    "        data_batch, length_batch, label_batch = data, lengths, labels\n",
    "        optimizer.zero_grad()\n",
    "        outputs = model(data_batch, length_batch)\n",
    "        loss = criterion(outputs, label_batch)\n",
    "        running_loss += loss.item()\n",
    "        loss.backward()\n",
    "        optimizer.step()\n",
    "        # validate every 100 iterations\n",
    "        if i > 0 and i % 100 == 0:\n",
    "            scheduler.step(running_loss)\n",
    "            # validate\n",
    "            val_acc = test_model(val_loader, model)\n",
    "            val_acc_values.append(val_acc)\n",
    "            if len(train_loader) - i < 100:\n",
    "                print('Epoch: [{}/{}], Step: [{}/{}], Loss: {:.4f}, Val Acc: {}'.format( \n",
    "                            epoch+1, num_epochs, i+1, len(train_loader), running_loss, val_acc))\n",
    "\n",
    "#             trn_acc = test_model(train_loader, model)\n",
    "#             print('Epoch: [{}/{}], Step: [{}/{}], Loss: {:.4f}, Trn Acc: {}, Val Acc: {}'.format( \n",
    "#                        epoch+1, num_epochs, i+1, len(train_loader), running_loss, trn_acc, val_acc))\n",
    "            running_loss = 0.0\n",
    "# val_acc_total.append(val_acc_values)"
   ]
  },
  {
   "cell_type": "code",
   "execution_count": 119,
   "metadata": {},
   "outputs": [
    {
     "name": "stdout",
     "output_type": "stream",
     "text": [
      "After training for 5 epochs\n",
      "Val Acc 90.12\n",
      "Test Acc 88.6\n"
     ]
    }
   ],
   "source": [
    "print (\"After training for {} epochs\".format(num_epochs))\n",
    "print (\"Val Acc {}\".format(test_model(val_loader, model)))\n",
    "print (\"Test Acc {}\".format(test_model(test_loader, model)))"
   ]
  },
  {
   "cell_type": "code",
   "execution_count": 120,
   "metadata": {},
   "outputs": [],
   "source": [
    "def get_example(loader):\n",
    "    rightPred = []\n",
    "    wrongPred = []\n",
    "    rightIdx = []\n",
    "    wrongIdx = []\n",
    "    model.eval()\n",
    "    for i, (data, lengths, labels) in enumerate(loader):\n",
    "        data_batch, length_batch, label_batch = data, lengths, labels\n",
    "        outputs = F.softmax(model(data_batch, length_batch), dim=1)\n",
    "        predicted = outputs.max(1, keepdim=True)[1]\n",
    "        pred = predicted.numpy().reshape(BATCH_SIZE)\n",
    "        corr = labels.numpy()\n",
    "        for j in range(BATCH_SIZE):\n",
    "            if pred[j] == corr[j]:\n",
    "                rightPred.append(pred[j])\n",
    "                rightIdx.append(i*BATCH_SIZE+j)\n",
    "            else:\n",
    "                wrongPred.append(pred[j])\n",
    "                wrongIdx.append(i*BATCH_SIZE+j)\n",
    "        if len(rightPred) >= 3 and len(wrongPred) >= 3:\n",
    "            return rightPred, wrongPred, rightIdx, wrongIdx"
   ]
  },
  {
   "cell_type": "code",
   "execution_count": 121,
   "metadata": {},
   "outputs": [],
   "source": [
    "val_loader_example = torch.utils.data.DataLoader(dataset=val_dataset, \n",
    "                                           batch_size=BATCH_SIZE,\n",
    "                                           collate_fn=newsgroup_collate_func,\n",
    "                                           shuffle=False)\n",
    "rightPred, wrongPred, rightIdx, wrongIdx = get_example(val_loader_example)"
   ]
  },
  {
   "cell_type": "code",
   "execution_count": 122,
   "metadata": {},
   "outputs": [
    {
     "name": "stdout",
     "output_type": "stream",
     "text": [
      "In Panic In The Streets Richard Widmark plays U.S. Navy doctor who has his week rudely interrupted with a corpse that contains plague. As cop Paul Douglas properly points out the guy died from two bullets in the chest. That's not the issue here, the two of them become unwilling partners in an effort to find the killers and anyone else exposed to the disease.As was pointed out by any number of people, for some reason director Elia Kazan did not bother to cast the small parts with anyone that sounds like they're from Louisiana. Having been to New Orleans where the story takes place I can personally attest to that. Richard Widmark and his wife Barbara Bel Geddes can be excused because as a Navy doctor he could be assigned there, but for those that are natives it doesn't work.But with plague out there and the news being kept a secret, the New Orleans PD starts a dragnet of the city's underworld. The dead guy came off a ship from Europe and he had underworld connections. A New Orleans wise guy played by Jack Palance jumps to a whole bunch of erroneous conclusions and starts harassing a cousin of the dead guy who is starting to show plague symptoms. Palance got rave reviews in the first film where he received notice.Personally my favorite in this film is Zero Mostel. This happened right before Mostel was blacklisted and around that time he made a specialty of playing would be tough guys who are really toadies. He plays the same kind of role in the Humphrey Bogart film, The Enforcer. Sadly I can kind of identify with Mostel in that last chase scene where he and Palance are being chased down by Widmark, Douglas, and half the New Orleans Police. Seeing the weight challenged Zero trying to keep up with Palance was something else because I'm kind of in Zero's league now in the heft department.Kazan kept the action going at a good clip, there's very little down time in this film. If there was any less it would be an Indiana Jones film. Panic In The Streets won an Oscar for Best Original Screenplay that year.Kazan also made good use of the New Orleans waterfront and the French Quarter. Some of the same kinds of shots are later used in On the Waterfront. In fact Panic In The Streets is about people not squealing when they really should in their own best interest. Very similar again to On the Waterfront.Panic In The Streets does everyone proud who was associated with it. Now why couldn't Elia Kazan get some decent New Orleans sounding people in the small roles.\n",
      "1\n",
      "1\n"
     ]
    }
   ],
   "source": [
    "print (val_data[rightIdx[0]])\n",
    "print (val_targets[rightIdx[0]])\n",
    "print (rightPred[0])"
   ]
  },
  {
   "cell_type": "code",
   "execution_count": 123,
   "metadata": {},
   "outputs": [
    {
     "name": "stdout",
     "output_type": "stream",
     "text": [
      "If you ask me the first one was really better one. Look at Sarah M. G., she is real, mean, cruel girl, look at Amy Adams she is just little fool hanging around. She is nothing! People don't adore her! Second, Sebastian was cute and hot in first movie, now he is \"baby face\". Story is not that good, and i do not understand. Why didn't they make this one first, it is the beginning. Loosy actors, nothing with story. This is not cruel, this is playing. First one has better actors, better story, and its mean. I think that the music is better in cruel intentions 1 and the music is better in cruel intentions 3. It is not the worst movie I saw, but in compaer with first one its one big, big, big nothing.\n",
      "0\n",
      "0\n"
     ]
    }
   ],
   "source": [
    "print (val_data[rightIdx[1]])\n",
    "print (val_targets[rightIdx[1]])\n",
    "print (rightPred[1])"
   ]
  },
  {
   "cell_type": "code",
   "execution_count": 124,
   "metadata": {},
   "outputs": [
    {
     "name": "stdout",
     "output_type": "stream",
     "text": [
      "I am a big fan a Faerie Tale Theatre and I've seen them all and this is one of the best! It's funny, romantic, and a classic. I recommend this for all ages. It's great for little kids because it's well, Cinderella and great for adults and teen because it's funny and not over the top. I watched it when I was little and I still watch it now. It has great lines that my family and I quote all the time. The acting is great and it never gets old. If you like fairy tales and romances you will love this. I've watched many a Cinderella movie in my time and this is the best of them all. (Sorry Disney) I highly recommend this movie and all the Faerie Tale Theatre shows. They all appeal to all ages and are all unique and very entertaining.\n",
      "1\n",
      "1\n"
     ]
    }
   ],
   "source": [
    "print (val_data[rightIdx[2]])\n",
    "print (val_targets[rightIdx[2]])\n",
    "print (rightPred[2])"
   ]
  },
  {
   "cell_type": "code",
   "execution_count": 125,
   "metadata": {},
   "outputs": [
    {
     "name": "stdout",
     "output_type": "stream",
     "text": [
      "This film would usually classify as the worst movie production ever. Ever. But in my opinion it is possibly the funniest. The horrifying direction and screenplay makes this film priceless. I bought the movie whilst sifting through the bargain DVD's at my local pound shop. Me and some friends then watched it, admittedly whilst rather drunk. It soon occurred that this wasn't any normal film. Instead a priceless relic of what will probably be James Cahill's last film. At first we were confused and were screaming for the DVD player to be turned off but thankfully in our abnormal state no-one could be bothered. Instead we watched the film right through. At the end we soon realised we had found any wasters dream, something that you can acceptably laugh at for hours, whilst laughing for all the wrong reasons. We soon showed all our other friends and they too agreed, this wasn't a work of abysmal film. This was a film that you can truly wet yourself laughing at. This was a film that anyone can enjoy. This was genius.\n",
      "1\n",
      "0\n"
     ]
    }
   ],
   "source": [
    "print (val_data[wrongIdx[0]])\n",
    "print (val_targets[wrongIdx[0]])\n",
    "print (wrongPred[0])"
   ]
  },
  {
   "cell_type": "code",
   "execution_count": 126,
   "metadata": {},
   "outputs": [
    {
     "name": "stdout",
     "output_type": "stream",
     "text": [
      "As a child the first installment (\"The Little Mermaid\") was my favorite movie. It was filled with great characters, songs, and a fun family film. A week or so again I watched this movie for the first time. I believe that this movie was like most sequels and didn't surpass their original. I think that I feel this way possibly because I had high expectations and I have grown up. However, it is not a bad film.It starts when Ariel has just given birth to a beautiful child, Melody. Eric and Ariel feel threatened by Morgana (Eurselas' sister), so they build a large wall around their house which lies on the sea. As Melody grows up she begins to wonder outside of the walls where she is forbidden to go. Trouble stirs up as Morgana tries to take control of the seven seas.I don't want to give away any of the movie so you have to see it to find out. I did like that the voices are the same and again wonderful singing. I think this is a good family film though overall!\n",
      "0\n",
      "1\n"
     ]
    }
   ],
   "source": [
    "print (val_data[wrongIdx[1]])\n",
    "print (val_targets[wrongIdx[1]])\n",
    "print (wrongPred[1])"
   ]
  },
  {
   "cell_type": "code",
   "execution_count": 127,
   "metadata": {},
   "outputs": [
    {
     "name": "stdout",
     "output_type": "stream",
     "text": [
      "For starters I have always been a fan of the Batman cartoons because the theme is so universal, 'that everyone alive has an alter-ego'. This is true in the Mystery of Batwoman. While the overall story is good I'm disappointed that they haven't really done much for the franchise with this.Throughout the movie, you are trying to find out who the identity of Batwoman is, unfortunately you can find out by easily looking at the cast of credits posted on this website (so if you haven't seen it already don't go there). I was sort of disappointed that they didn't make the movie longer. 75 minutes is way too short for any movie. The secret identity of batwoman also comes far too early in the movie, sort of midway, and becomes anti-climatic afterward because you know the good guys will always win and that the new character known as Batwoman will disappear after the movie is over.I'm also not too sure about the new animation style used in this movie. I love the sleek new characters but there should be some more detail where detail is called for. Some parts of the animation look so awkward and rigid that it grabs your attention right away diverting your attention away from the storyline. I also didn't really like the bright atmosphere used in most of the scenes, it sort of loses its dark and gothic feel which is Batman. Similarly we should've gotten to know more about batwoman's personality so that we can build the same deep compassionate feeling that we do with Bruce Wayne. Also I think the fight with Bane should have been done better. In typical children's fashion the bad guy meets his demise too easily either by tripping, falling, getting electricuted or doing something dumb that works against them. Come to think of it there wasn't even one drop of blood spilled in this movie either.Bottom line, its a good entertaining flick and I recommend anyone who's a Batman fan to watch it. It has good storyline, universal appeal and even great acting to top it off. I just wish that they could have delivered more permanent change to the story by making Batwoman stay to make things more interesting. Not just introduce her and then kick her off once she's done. I'd also like to see someone else figure out the mystery for a change finally. To have some other than Batman solve the mystery and fill him in later with the details.I hope there are more animated movies to come and look forward to the time when we will actually be able to see the breakup between Bruce Wayne and Barbra Gordan. He's been stringing her along forever and doesn't even like her and I can't believe that she was dumb enough to fall in love with someone 20 years older. I also want to see the time when Tim Drake leaves because he is getting sick of the old man. In short I want to see all of the things that led the characters to where they will be in Batman Beyond. Otherwise the same repeated formula will just end it faster than if they just decided to move on with the story.\n",
      "1\n",
      "0\n"
     ]
    }
   ],
   "source": [
    "print (val_data[wrongIdx[2]])\n",
    "print (val_targets[wrongIdx[2]])\n",
    "print (wrongPred[2])"
   ]
  },
  {
   "cell_type": "code",
   "execution_count": null,
   "metadata": {},
   "outputs": [],
   "source": []
  }
 ],
 "metadata": {
  "kernelspec": {
   "display_name": "Python 3",
   "language": "python",
   "name": "python3"
  },
  "language_info": {
   "codemirror_mode": {
    "name": "ipython",
    "version": 3
   },
   "file_extension": ".py",
   "mimetype": "text/x-python",
   "name": "python",
   "nbconvert_exporter": "python",
   "pygments_lexer": "ipython3",
   "version": "3.6.6"
  }
 },
 "nbformat": 4,
 "nbformat_minor": 2
}
